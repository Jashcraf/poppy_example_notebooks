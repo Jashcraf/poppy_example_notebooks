{
 "cells": [
  {
   "cell_type": "code",
   "execution_count": null,
   "metadata": {
    "collapsed": false
   },
   "outputs": [],
   "source": [
    "import numpy as np\n",
    "%matplotlib inline\n",
    "import matplotlib.pyplot as plt\n",
    "import poppy\n",
    "class subapertures(poppy.OpticalElement):\n",
    "        \"\"\"\n",
    "        Example roadmap:\n",
    "        \n",
    "        #generate wavefront\n",
    "        wf = poppy.wavefront() #or fresnel wavefront\n",
    "        \n",
    "        #...various surfaces\n",
    "        \n",
    "        subaperture(ARRAY OF OPTICS) \n",
    "        #initialize this new class, where the array of optics define the subapertures (e.g. lenslets)\n",
    "        \n",
    "        subapertures.sample_wf(wf) #this function takes the wavefront and subsamples it by the area of each optic\n",
    "        subapertures.get_wavefront_array() #returns an array of input sub-wavefronts multipled by subaperture optics\n",
    "        subapertures.get_psfs() #fraunhofer or fresnel propagation of each pupil  to the image/ waist\n",
    "        image=subapertures.get_composite_wavefont() # returns wavefront of image plane of all the spots put back together\n",
    "        subapertures.opd #single array made up of subapertures\n",
    "        subapertures.amplitude  #single array made up of subapertures\n",
    "        subapertures.getphasor #returns propagated array of spots from get_composite_wavefont\n",
    "        \n",
    "        \n",
    "        Parameters\n",
    "        ----------\n",
    "        \n",
    "        crosstalk: boolean\n",
    "                  this variable sets whether light can leak from one lenslet image plane into the neighbors.\n",
    "                  Default is False.\n",
    "        x_y_offset: tuple\n",
    "                  offset of central grid vertex from center of incident wavefront\n",
    "        input_wavefront: None or poppy.Wavefront \n",
    "                  : the unsampled wavefront incident on the subapertures\n",
    "        \"\"\"\n",
    "        \n",
    "        def __init__(self,\n",
    "                     dimensions = (2,2),\n",
    "                     optic_array = np.array([[poppy.CircularAperture(radius=2.),poppy.CircularAperture(radius=2.)],\n",
    "                                    [poppy.CircularAperture(radius=2.),poppy.CircularAperture(radius=2.)]]),\n",
    "                     crosstalk=False,\n",
    "                     x_y_offset=(0,0),\n",
    "                 **kwargs):\n",
    "            self.n_apertures = dimensions[0]*dimensions[1]\n",
    "            \n",
    "            self.optic_array=optic_array\n",
    "            self.crosstalk=crosstalk\n",
    "            self.x_y_offset=x_y_offset\n",
    "            self.amplitude = np.asarray([1.])\n",
    "            self.opd = np.asarray([0.])\n",
    "            self.pixelscale = None\n",
    "            self.input_wavefront = None\n",
    "            self.output_wavefront = None\n",
    "\n",
    "            self.x_apertures=self.optic_array.shape[0]\n",
    "            self.y_apertures=self.optic_array.shape[1]\n",
    "            if self.x_apertures != self.y_apertures:\n",
    "                raise ValueError(\"A square array of subapertures is currently required.\")\n",
    "            #initialize array of subsampled output wavefronts:\n",
    "            self.wf_array = np.empty(self.optic_array.shape,dtype=np.object_)\n",
    "            poppy.OpticalElement.__init__(self, **kwargs)\n",
    "            \n",
    "        def sample_wf(self, wf):\n",
    "            '''\n",
    "            \n",
    "            Parameters\n",
    "            ----------\n",
    "            \n",
    "            '''\n",
    "            #save the input wavefront\n",
    "            self.input_wavefront=wf\n",
    "            for i in range(self.x_apertures):\n",
    "                 for j in  range(self.y_apertures):\n",
    "                    opt = self.optic_array[i][j] #get an optic\n",
    "\n",
    "                    #check for padding\n",
    "                    if opt == None:\n",
    "                        continue\n",
    "                    \n",
    "                    aper_per_dim = wf.diam /(opt.radius*2) #assuming squares\n",
    "                    \n",
    "                    self.w= 2*opt.radius/wf.pixelscale #subaperture width in pixels \n",
    "                    #the generated number of subapertures might not match the input wavefront dimensions\n",
    "                    #want to center the subapertures on the incoming wavefront\n",
    "                    \n",
    "                    self.c = wf.wavefront.shape[0]/2 #center of array\n",
    "                    c=self.c\n",
    "                    w=self.w\n",
    "                    sub_wf=wf.copy() #new wavefront has all the previous wavefront properties\n",
    "                    print((i,j,c,w,w*(i)+w - c,w*(i+1)+w-c))\n",
    "                    sub_wf.wavefront = wf.wavefront[w*(i)+w - c:w*(i+1)+w-c,w*(j)+w - c:w*(j+1)+w-c]\n",
    "                    self.pixelscale\n",
    "                    wf.pixelscale\n",
    "                    plt.figure()\n",
    "                    self.wf_array[i][j] = sub_wf*opt\n",
    "                    (sub_wf*opt).display()\n",
    "                    #print(sub_wave.shape)\n",
    "            #slice wavefront\n",
    "            #wf.Wavefront[,]\n",
    "        \n",
    "        #subsample input wavefront\n",
    "        \n",
    "        #generate subsampled grid of mini-pupils and return array of output wavefronts\n",
    "                \n",
    "        #return a composite wavefront if an array of output wavefronts was generated\n",
    "        def get_wavefront_array(self):\n",
    "            \"\"\"\n",
    "            \n",
    "            \n",
    "            \"\"\"\n",
    "            if self.input_wavefront is None:\n",
    "                raise ValueError(\"No input wavefront found.\")\n",
    "                \n",
    "            wf = self.input_wavefront.copy()\n",
    "            c=self.c\n",
    "            w=self.w\n",
    "            for i in range(self.x_apertures):\n",
    "                 for j in  range(self.y_apertures):\n",
    "                    sub_wf = self.wf_array[i][j] #get an subaperture wavefront\n",
    "\n",
    "                    #check for padding\n",
    "                    \n",
    "                    if sub_wf == None:\n",
    "                        wf.wavefront[w*(i)+w - c:w*(i+1)+w-c,w*(j)+w - c:w*(j+1)+w-c] = np.nan\n",
    "                    else:\n",
    "                        wf.wavefront[w*(i)+w - c:w*(i+1)+w-c,w*(j)+w - c:w*(j+1)+w-c] = sub_wf.wavefront \n",
    "\n",
    "\n",
    "                    \n",
    "            return wf\n",
    "        \n",
    "sub=subapertures()\n",
    "wf=poppy.Wavefront()\n",
    "wf *= poppy.CircularAperture(radius=4)\n",
    "print(wf.shape)\n",
    "\n",
    "sub.sample_wf(wf)"
   ]
  },
  {
   "cell_type": "code",
   "execution_count": null,
   "metadata": {
    "collapsed": false
   },
   "outputs": [],
   "source": [
    "sub.get_wavefront_array().display()"
   ]
  },
  {
   "cell_type": "code",
   "execution_count": null,
   "metadata": {
    "collapsed": true
   },
   "outputs": [],
   "source": [
    "            self.wf_array=np.void"
   ]
  },
  {
   "cell_type": "code",
   "execution_count": null,
   "metadata": {
    "collapsed": false
   },
   "outputs": [],
   "source": [
    "import astropy.units as u\n"
   ]
  },
  {
   "cell_type": "code",
   "execution_count": null,
   "metadata": {
    "collapsed": false
   },
   "outputs": [],
   "source": [
    "arr = np.array([[5,4,5],[3,7,6]])\n",
    "x,y = np.meshgrid(np.arange(0,arr.shape[0]),np.arange(0,arr.shape[1]))"
   ]
  },
  {
   "cell_type": "code",
   "execution_count": null,
   "metadata": {
    "collapsed": false
   },
   "outputs": [],
   "source": []
  },
  {
   "cell_type": "code",
   "execution_count": null,
   "metadata": {
    "collapsed": false
   },
   "outputs": [],
   "source": [
    "arr\n",
    "arr[arr.strides]"
   ]
  },
  {
   "cell_type": "code",
   "execution_count": null,
   "metadata": {
    "collapsed": false
   },
   "outputs": [],
   "source": [
    "opt=poppy.CircularAperture()\n",
    "opt.radius"
   ]
  },
  {
   "cell_type": "code",
   "execution_count": null,
   "metadata": {
    "collapsed": false
   },
   "outputs": [],
   "source": []
  },
  {
   "cell_type": "code",
   "execution_count": null,
   "metadata": {
    "collapsed": false
   },
   "outputs": [],
   "source": [
    "wf.diam"
   ]
  },
  {
   "cell_type": "code",
   "execution_count": null,
   "metadata": {
    "collapsed": true
   },
   "outputs": [],
   "source": []
  }
 ],
 "metadata": {
  "kernelspec": {
   "display_name": "Python 2",
   "language": "python",
   "name": "python2"
  },
  "language_info": {
   "codemirror_mode": {
    "name": "ipython",
    "version": 2
   },
   "file_extension": ".py",
   "mimetype": "text/x-python",
   "name": "python",
   "nbconvert_exporter": "python",
   "pygments_lexer": "ipython2",
   "version": "2.7.12"
  }
 },
 "nbformat": 4,
 "nbformat_minor": 0
}
