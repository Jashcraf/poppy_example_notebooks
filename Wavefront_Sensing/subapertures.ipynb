{
 "cells": [
  {
   "cell_type": "code",
   "execution_count": 93,
   "metadata": {
    "collapsed": false
   },
   "outputs": [
    {
     "name": "stdout",
     "output_type": "stream",
     "text": [
      "[<poppy.optics.CircularAperture object at 0x7fdcc5ce4b90>\n",
      " <poppy.optics.CircularAperture object at 0x7fdcc5ce4210>]\n"
     ]
    },
    {
     "ename": "AttributeError",
     "evalue": "'numpy.ndarray' object has no attribute 'radius'",
     "output_type": "error",
     "traceback": [
      "\u001b[0;31m---------------------------------------------------------------------------\u001b[0m",
      "\u001b[0;31mAttributeError\u001b[0m                            Traceback (most recent call last)",
      "\u001b[0;32m<ipython-input-93-f918a1d0070c>\u001b[0m in \u001b[0;36m<module>\u001b[0;34m()\u001b[0m\n\u001b[1;32m     86\u001b[0m \u001b[0;34m\u001b[0m\u001b[0m\n\u001b[1;32m     87\u001b[0m \u001b[0msub\u001b[0m\u001b[0;34m=\u001b[0m\u001b[0msubapertures\u001b[0m\u001b[0;34m(\u001b[0m\u001b[0;34m)\u001b[0m\u001b[0;34m\u001b[0m\u001b[0m\n\u001b[0;32m---> 88\u001b[0;31m \u001b[0msub\u001b[0m\u001b[0;34m.\u001b[0m\u001b[0msample_wf\u001b[0m\u001b[0;34m(\u001b[0m\u001b[0mwf\u001b[0m\u001b[0;34m)\u001b[0m\u001b[0;34m\u001b[0m\u001b[0m\n\u001b[0m",
      "\u001b[0;32m<ipython-input-93-f918a1d0070c>\u001b[0m in \u001b[0;36msample_wf\u001b[0;34m(self, wf)\u001b[0m\n\u001b[1;32m     62\u001b[0m             \u001b[0mopt\u001b[0m \u001b[0;34m=\u001b[0m \u001b[0mself\u001b[0m\u001b[0;34m.\u001b[0m\u001b[0moptic_array\u001b[0m\u001b[0;34m[\u001b[0m\u001b[0;36m0\u001b[0m\u001b[0;34m]\u001b[0m\u001b[0;34m\u001b[0m\u001b[0m\n\u001b[1;32m     63\u001b[0m             \u001b[0;32mprint\u001b[0m\u001b[0;34m(\u001b[0m\u001b[0mopt\u001b[0m\u001b[0;34m)\u001b[0m\u001b[0;34m\u001b[0m\u001b[0m\n\u001b[0;32m---> 64\u001b[0;31m             \u001b[0maper_per_dim\u001b[0m \u001b[0;34m=\u001b[0m \u001b[0mwf\u001b[0m\u001b[0;34m.\u001b[0m\u001b[0mdiam\u001b[0m \u001b[0;34m/\u001b[0m\u001b[0;34m(\u001b[0m\u001b[0mopt\u001b[0m\u001b[0;34m.\u001b[0m\u001b[0mradius\u001b[0m\u001b[0;34m*\u001b[0m\u001b[0;36m2\u001b[0m\u001b[0;34m)\u001b[0m \u001b[0;31m#assuming squares\u001b[0m\u001b[0;34m\u001b[0m\u001b[0m\n\u001b[0m\u001b[1;32m     65\u001b[0m             \u001b[0mwidth_pix\u001b[0m\u001b[0;34m=\u001b[0m \u001b[0;36m2\u001b[0m\u001b[0;34m*\u001b[0m\u001b[0mopt\u001b[0m\u001b[0;34m.\u001b[0m\u001b[0mradius\u001b[0m\u001b[0;34m/\u001b[0m\u001b[0mwf\u001b[0m\u001b[0;34m.\u001b[0m\u001b[0mpixelscale\u001b[0m \u001b[0;31m#subaperture width in pixels\u001b[0m\u001b[0;34m\u001b[0m\u001b[0m\n\u001b[1;32m     66\u001b[0m             \u001b[0;32mprint\u001b[0m\u001b[0;34m(\u001b[0m\u001b[0mhw_pix\u001b[0m\u001b[0;34m)\u001b[0m\u001b[0;34m\u001b[0m\u001b[0m\n",
      "\u001b[0;31mAttributeError\u001b[0m: 'numpy.ndarray' object has no attribute 'radius'"
     ]
    }
   ],
   "source": [
    "import numpy as np\n",
    "import poppy\n",
    "class subapertures(poppy.OpticalElement):\n",
    "        \"\"\"\n",
    "        Example roadmap:\n",
    "        \n",
    "        #generate wavefront\n",
    "        wf = poppy.wavefront() #or fresnel wavefront\n",
    "        \n",
    "        #...various surfaces\n",
    "        \n",
    "        subaperture(ARRAY OF OPTICS) \n",
    "        #initialize this new class, where the array of optics define the subapertures (e.g. lenslets)\n",
    "        \n",
    "        subapertures.sample_wf(wf) #this function takes the wavefront and subsamples it by the area of each optic\n",
    "        subapertures.get_wavefront_array() #returns an array of input sub-wavefronts multipled by subaperture optics\n",
    "        subapertures.get_psfs() #fraunhofer or fresnel propagation of each pupil  to the image/ waist\n",
    "        image=subapertures.get_composite_wavefont() # returns wavefront of image plane of all the spots put back together\n",
    "        subapertures.opd #single array made up of subapertures\n",
    "        subapertures.amplitude  #single array made up of subapertures\n",
    "        subapertures.getphasor #returns propagated array of spots from get_composite_wavefont\n",
    "        \n",
    "        \n",
    "        Parameters\n",
    "        ----------\n",
    "        \n",
    "        crosstalk: boolean\n",
    "                  this variable sets whether light can leak from one lenslet image plane into the neighbors.\n",
    "                  Default is False.\n",
    "        x_y_offset: tuple\n",
    "                  offset of central grid vertex from center of incident wavefront\n",
    "                  \n",
    "        \"\"\"\n",
    "        \n",
    "        def __init__(self,\n",
    "                     dimensions = (2,2),\n",
    "                     optic_array = np.array([[poppy.CircularAperture(),poppy.CircularAperture()],\n",
    "                                    [poppy.CircularAperture(),poppy.CircularAperture()]]),\n",
    "                     crosstalk=False,\n",
    "                     x_y_offset=(0,0),\n",
    "                 **kwargs):\n",
    "            n_apertures = dimensions[0]*dimensions[1]\n",
    "            self.optic_array=optic_array\n",
    "            self.crosstalk=crosstalk\n",
    "            x_y_offset=x_y_offset\n",
    "            self.amplitude = np.asarray([1.])\n",
    "            self.opd = np.asarray([0.])\n",
    "            self.pixelscale = None\n",
    "            poppy.OpticalElement.__init__(self, **kwargs)\n",
    "            \n",
    "        def sample_wf(self, wf):\n",
    "            '''\n",
    "            \n",
    "            Parameters\n",
    "            ----------\n",
    "            \n",
    "            '''\n",
    "            #calculate subarray size:\n",
    "            \n",
    "            #for opt in self.optic_array:\n",
    "            #     ...\n",
    "            opt = self.optic_array[0]\n",
    "            print(opt)\n",
    "            aper_per_dim = wf.diam /(opt.radius*2) #assuming squares\n",
    "            width_pix= 2*opt.radius/wf.pixelscale #subaperture width in pixels \n",
    "            print(hw_pix)\n",
    "            #the generated number of subapertures might not match the input wavefront dimensions\n",
    "            #want to center the subapertures on the incoming wavefront\n",
    "            cent = wf.wavefront.shape/2\n",
    "            subwave=wf.copy() #new wavefront has all the previous wavefront properties\n",
    "            aper_x_ind=0 #x index of the subaperture\n",
    "            aper_y_ind=0 #y index of the subaperture\n",
    "            sub_wave.wavefront = wf.wavefront[2*width_pix - cen + aper_x_ind*width_pix:\n",
    "                                              cen+2*width_pix+ aper_x_ind*width_pix]\n",
    "            self.pixelscale\n",
    "            wf.pixelscale\n",
    "            #slice wavefront\n",
    "            #wf.Wavefront[,]\n",
    "        \n",
    "        #subsample input wavefront\n",
    "        \n",
    "        #generate subsampled grid of mini-pupils and return array of output wavefronts\n",
    "                \n",
    "        #return a composite wavefront if an array of output wavefronts was generated\n",
    "        \n",
    "        \n",
    "sub=subapertures()\n",
    "sub.sample_wf(wf)"
   ]
  },
  {
   "cell_type": "code",
   "execution_count": null,
   "metadata": {
    "collapsed": false
   },
   "outputs": [],
   "source": [
    "import astropy.units as u\n"
   ]
  },
  {
   "cell_type": "code",
   "execution_count": 52,
   "metadata": {
    "collapsed": false
   },
   "outputs": [],
   "source": [
    "arr = np.array([[5,4,5],[3,7,6]])\n",
    "x,y = np.meshgrid(np.arange(0,arr.shape[0]),np.arange(0,arr.shape[1]))"
   ]
  },
  {
   "cell_type": "code",
   "execution_count": 89,
   "metadata": {
    "collapsed": false
   },
   "outputs": [
    {
     "data": {
      "text/latex": [
       "$0.0078125 \\; \\mathrm{\\frac{m}{pix}}$"
      ],
      "text/plain": [
       "<Quantity 0.0078125 m / pix>"
      ]
     },
     "execution_count": 89,
     "metadata": {},
     "output_type": "execute_result"
    }
   ],
   "source": []
  },
  {
   "cell_type": "code",
   "execution_count": 54,
   "metadata": {
    "collapsed": false
   },
   "outputs": [
    {
     "ename": "IndexError",
     "evalue": "index 24 is out of bounds for axis 0 with size 2",
     "output_type": "error",
     "traceback": [
      "\u001b[0;31m---------------------------------------------------------------------------\u001b[0m",
      "\u001b[0;31mIndexError\u001b[0m                                Traceback (most recent call last)",
      "\u001b[0;32m<ipython-input-54-b1352dc886ce>\u001b[0m in \u001b[0;36m<module>\u001b[0;34m()\u001b[0m\n\u001b[1;32m      1\u001b[0m \u001b[0marr\u001b[0m\u001b[0;34m\u001b[0m\u001b[0m\n\u001b[0;32m----> 2\u001b[0;31m \u001b[0marr\u001b[0m\u001b[0;34m[\u001b[0m\u001b[0marr\u001b[0m\u001b[0;34m.\u001b[0m\u001b[0mstrides\u001b[0m\u001b[0;34m]\u001b[0m\u001b[0;34m\u001b[0m\u001b[0m\n\u001b[0m",
      "\u001b[0;31mIndexError\u001b[0m: index 24 is out of bounds for axis 0 with size 2"
     ]
    }
   ],
   "source": [
    "arr\n",
    "arr[arr.strides]"
   ]
  },
  {
   "cell_type": "code",
   "execution_count": 55,
   "metadata": {
    "collapsed": true
   },
   "outputs": [],
   "source": [
    "opt=poppy.CircularAperture()"
   ]
  },
  {
   "cell_type": "code",
   "execution_count": 87,
   "metadata": {
    "collapsed": false
   },
   "outputs": [],
   "source": [
    "wf=poppy.Wavefront()"
   ]
  },
  {
   "cell_type": "code",
   "execution_count": 88,
   "metadata": {
    "collapsed": false
   },
   "outputs": [
    {
     "data": {
      "text/latex": [
       "$8 \\; \\mathrm{m}$"
      ],
      "text/plain": [
       "<Quantity 8.0 m>"
      ]
     },
     "execution_count": 88,
     "metadata": {},
     "output_type": "execute_result"
    }
   ],
   "source": [
    "wf.diam"
   ]
  },
  {
   "cell_type": "code",
   "execution_count": null,
   "metadata": {
    "collapsed": true
   },
   "outputs": [],
   "source": []
  }
 ],
 "metadata": {
  "kernelspec": {
   "display_name": "Python 2",
   "language": "python",
   "name": "python2"
  },
  "language_info": {
   "codemirror_mode": {
    "name": "ipython",
    "version": 2
   },
   "file_extension": ".py",
   "mimetype": "text/x-python",
   "name": "python",
   "nbconvert_exporter": "python",
   "pygments_lexer": "ipython2",
   "version": "2.7.12"
  }
 },
 "nbformat": 4,
 "nbformat_minor": 0
}
