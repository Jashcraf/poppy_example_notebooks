{
 "cells": [
  {
   "cell_type": "markdown",
   "metadata": {},
   "source": [
    "### Reproducing the PROPER Microscope Example with POPPY\n",
    "\n",
    "\n",
    "\n",
    "Given a two lens optical system viewed by the human eye and a point source much closer than infinity, find the PSF seen on the retina, neglecting real lens shapes or variation in index of refraction. \n",
    "\n",
    "This is re-implimentation of the optical prescription describe on p.56 of the PROPER V2.0 manual by John Krist (http://sourceforge.net/projects/proper-library/). \n",
    "The PROPER 2.0 microscope.pro example was used for comparison with the following inputs:\n",
    "\n",
    "    gridsize=512\n",
    "    sampling=1\n",
    "    wavelength=675e-9\n",
    "\n",
    "\n",
    "\n",
    "An ASCII schematic illustrates this layout (on no particular scale):\n",
    "\n",
    "o <--(objective)--------><---(eyepiece)---><--(eye)-->retina\n",
    "\n",
    "where o is the object, (objective) is the objective lens and > indicates the direction of beam convergence (thus >< indicates an intermediate focus.\n",
    "\n",
    "The system is held fixed and the distance from the object to the objective lens can be found using the thin lens equation:\n",
    "\n",
    "$1/o+1/i=1/f$\n",
    "\n",
    "${o}=\\frac{1}{1/f-1/i}=\\frac{if}{f-i}$\n",
    "\n"
   ]
  },
  {
   "cell_type": "code",
   "execution_count": null,
   "metadata": {
    "collapsed": true
   },
   "outputs": [],
   "source": [
    "#Relation of POPPY debugging terms to PROPER terms:\n",
    "\n",
    "#|PROPER           | POPPY| description|\n",
    "#|Rayleigh distance| z_R  | location of the waist w_0|\n",
    "#|Gaussian R_beam  |  R_c | gaussian beam radius of curvature    |\n",
    "#|Beam diameter    |   2 * (spot_radius)| waist at a particular location|\n"
   ]
  },
  {
   "cell_type": "code",
   "execution_count": null,
   "metadata": {
    "collapsed": false
   },
   "outputs": [],
   "source": [
    "import numpy as np\n",
    "\n",
    "#plotting\n",
    "import matplotlib.pyplot as plt\n",
    "from matplotlib.colors import LogNorm, Normalize\n",
    "%matplotlib inline\n",
    "\n",
    "#units\n",
    "from astropy import units as u\n",
    "\n",
    "#POPPY\n",
    "import poppy\n",
    "from poppy.poppy_core import PlaneType\n",
    "poppy.__version__"
   ]
  },
  {
   "cell_type": "markdown",
   "metadata": {},
   "source": [
    "#Define the optical elements:"
   ]
  },
  {
   "cell_type": "code",
   "execution_count": null,
   "metadata": {
    "collapsed": false
   },
   "outputs": [],
   "source": [
    "from poppy import fresnel\n",
    "#define system with units\n",
    "diam = 0.005*u.m\n",
    "fl_objective = 0.010*u.m\n",
    "d1 = 0.160*u.m #\n",
    "beam_ratio = 0.4\n",
    "npix=512\n",
    "d_intermediate_image = fl_objective + d1\n",
    "d_object = 1.0 / (1/fl_objective - 1/d_intermediate_image)\n",
    "d_object,d_intermediate_image#+d_object\n",
    "\n",
    "#initialize optical elements:\n",
    "source=poppy.QuadraticLens(-(d_object),name='source')\n",
    "obj=poppy.QuadraticLens(fl_objective,name='objective')\n",
    "eyepiece=poppy.QuadraticLens( 0.020*u.m,name='eyepiece')\n",
    "eye=poppy.QuadraticLens( 0.022*u.m,name='eye')\n"
   ]
  },
  {
   "cell_type": "markdown",
   "metadata": {},
   "source": [
    "## Manually step through each element of the system in a PROPER-like sequence"
   ]
  },
  {
   "cell_type": "code",
   "execution_count": null,
   "metadata": {
    "collapsed": false,
    "scrolled": true
   },
   "outputs": [],
   "source": [
    "#intialize wavefront\n",
    "micro_wf=fresnel.FresnelWavefront(diam/2.,wavelength=675e-9,\n",
    "                              npix=npix,oversample=1)\n",
    "\n",
    "micro_wf.normalize() \n",
    "#Input Pupil, this is where I'm applying the beam ratio, which almost matches the PROPER beam_diam_fraction approach\n",
    "micro_wf *= poppy.CircularAperture(radius=diam.value/2.0*.4,\n",
    "                             oversample=micro_wf.oversample)\n",
    "\n",
    "#apply source curvature\n",
    "micro_wf.apply_lens_power(source)\n",
    "micro_wf.apply_lens_power(obj)\n",
    "\n",
    "micro_wf.propagate_fresnel(d_intermediate_image+eyepiece.fl, display_intermed=False)\n",
    "\n",
    "#show wavefront before eyepiece\n",
    "micro_wf.display('both',colorbar=True)\n",
    "\n",
    "micro_wf.apply_lens_power(eyepiece)  \n",
    "\n",
    "exit_pupil_distance = eyepiece.fl / (1 - eyepiece.fl/(d_intermediate_image+eyepiece.fl))\n",
    "micro_wf.propagate_fresnel(exit_pupil_distance)\n",
    "micro_wf.apply_lens_power(eye)\n",
    "\n",
    "micro_wf.propagate_fresnel(eye.fl, display_intermed=False)\n"
   ]
  },
  {
   "cell_type": "markdown",
   "metadata": {},
   "source": [
    "# Compare to PROPER result"
   ]
  },
  {
   "cell_type": "code",
   "execution_count": null,
   "metadata": {
    "collapsed": false
   },
   "outputs": [],
   "source": [
    "micro_wf.normalize()\n",
    "plt.figure(figsize=[18,6])\n",
    "poppy_image=poppy.utils.removePadding(micro_wf.intensity,micro_wf.oversample)\n",
    "plt.subplot(231)\n",
    "poppy_norm=LogNorm(vmax=poppy_image.max(),vmin=micro_wf.intensity.min())\n",
    "cen=micro_wf.intensity.shape[0]/2.0\n",
    "\n",
    "plt.imshow(micro_wf.intensity,interpolation='none',norm=poppy_norm)\n",
    "plt.title(\"POPPY\")\n",
    "\n",
    "plt.colorbar()\n",
    "plt.subplot(234)\n",
    "plt.imshow(micro_wf.intensity[-10+cen:+10+cen,-10+cen:+10+cen],interpolation='none')\n",
    "plt.colorbar()\n",
    "try:\n",
    "    import scipy.io\n",
    "    plt.subplot(232)\n",
    "    proper_micro=scipy.io.readsav('microscope_out.sav',)\n",
    "    proper_intens=proper_micro.wavefront/proper_micro.wavefront.sum()\n",
    "    proper_norm=LogNorm(vmax=proper_intens.max(),vmin=proper_intens.min())\n",
    "    plt.imshow(proper_intens,interpolation='none',norm=proper_norm)\n",
    "    plt.colorbar()\n",
    "\n",
    "    plt.title(\"PROPER\")\n",
    "    diff=np.abs(micro_wf.intensity-proper_intens)\n",
    "    diff_norm=LogNorm(vmax=diff.max(),vmin=diff.min())\n",
    "\n",
    "    plt.subplot(233)\n",
    "    plt.imshow(diff,norm=diff_norm)\n",
    "    plt.title(\"(|POPPY-PROPER|)\")\n",
    "    plt.colorbar()\n",
    "    plt.subplot(235)\n",
    "\n",
    "    plt.imshow(proper_intens[-10+cen:+10+cen,-10+cen:+10+cen],interpolation='none')#,norm=proper_norm)\n",
    "    plt.colorbar()\n",
    "\n",
    "\n",
    "    plt.subplot(236)\n",
    "    plt.imshow(diff[-10+cen:+10+cen,-10+cen:+10+cen],interpolation='none')#,norm=diff_norm)\n",
    "    plt.colorbar()\n",
    "except Exception as err:\n",
    "    print(err)\n",
    "\n",
    "plt.suptitle(\"Comparison of normalized outputs. Top row: full array, bottom row central: linear comparison of core.\")\n"
   ]
  },
  {
   "cell_type": "markdown",
   "metadata": {},
   "source": [
    "The agreement is better than 1%, the difference is likely due to POPPY's current lack of anti-aliased aperture edges (https://github.com/mperrin/poppy/issues/129)"
   ]
  },
  {
   "cell_type": "markdown",
   "metadata": {
    "collapsed": false
   },
   "source": [
    "### Implement the same system as a POPPY-like optical system.\n"
   ]
  },
  {
   "cell_type": "code",
   "execution_count": null,
   "metadata": {
    "collapsed": false
   },
   "outputs": [],
   "source": [
    "#define powered optics\n",
    "micro = poppy.FresnelOpticalSystem(pupil_diameter=diam, npix=512,beam_ratio=1)\n",
    "micro.add_optic(poppy.CircularAperture(radius=diam.value/2*.4))\n",
    "micro.add_optic(source)\n",
    "micro.add_optic(obj)\n",
    "micro.add_optic(eyepiece, distance=d_intermediate_image+eyepiece.fl)\n",
    "micro.add_optic(eye, distance=exit_pupil_distance)\n",
    "\n",
    "#the detector plane type needs to be intermediate,\n",
    "# since the image plane type makes the astro-centric assumption that sources are at infinity\n",
    "micro.add_optic(poppy.ScalarTransmission(planetype=PlaneType.intermediate,\n",
    "                                         name=\"Retina\"), distance=eye.fl);\n",
    "micro.describe()"
   ]
  },
  {
   "cell_type": "markdown",
   "metadata": {},
   "source": [
    "## Show that is equivalent to the early line-by-line approach"
   ]
  },
  {
   "cell_type": "code",
   "execution_count": null,
   "metadata": {
    "collapsed": false,
    "scrolled": true
   },
   "outputs": [],
   "source": [
    "plt.figure(figsize=(12,8))\n",
    "psf,waves = micro.calcPSF(wavelength=675e-9, \n",
    "                           display_intermediates=False, \n",
    "                           return_intermediates=True,\n",
    "                          )\n",
    "\n",
    "poppy_norm=LogNorm(vmax=psf[0].data.max(),vmin=psf[0].data.min())\n",
    "\n",
    "plt.imshow(psf[0].data,interpolation='none',norm=poppy_norm)\n",
    "plt.colorbar()"
   ]
  },
  {
   "cell_type": "markdown",
   "metadata": {},
   "source": [
    "## Show that the sequential and optical system approaches are equivalent"
   ]
  },
  {
   "cell_type": "code",
   "execution_count": null,
   "metadata": {
    "collapsed": false
   },
   "outputs": [],
   "source": [
    "difference=micro_wf.intensity-psf[0].data\n",
    "plt.imshow(difference[-10+cen:+10+cen,-10+cen:+10+cen],interpolation='none')\n",
    "plt.title(\"POPPY sequential vs. system\\n numerical noise\")\n",
    "plt.colorbar()"
   ]
  },
  {
   "cell_type": "markdown",
   "metadata": {},
   "source": [
    "## Show how a microscope breaks the focal length to image plane  plate scale"
   ]
  },
  {
   "cell_type": "code",
   "execution_count": null,
   "metadata": {
    "collapsed": false
   },
   "outputs": [],
   "source": [
    "\n",
    "for w in waves:\n",
    "    print(\"Focal length {} is {}\".format(w.location, w.focal_length))"
   ]
  },
  {
   "cell_type": "code",
   "execution_count": null,
   "metadata": {
    "collapsed": false
   },
   "outputs": [],
   "source": []
  },
  {
   "cell_type": "code",
   "execution_count": null,
   "metadata": {
    "collapsed": true
   },
   "outputs": [],
   "source": []
  },
  {
   "cell_type": "code",
   "execution_count": null,
   "metadata": {
    "collapsed": true
   },
   "outputs": [],
   "source": []
  }
 ],
 "metadata": {
  "anaconda-cloud": {},
  "kernelspec": {
   "display_name": "Python [conda root]",
   "language": "python",
   "name": "conda-root-py"
  },
  "language_info": {
   "codemirror_mode": {
    "name": "ipython",
    "version": 3
   },
   "file_extension": ".py",
   "mimetype": "text/x-python",
   "name": "python",
   "nbconvert_exporter": "python",
   "pygments_lexer": "ipython3",
   "version": "3.5.2"
  }
 },
 "nbformat": 4,
 "nbformat_minor": 0
}
