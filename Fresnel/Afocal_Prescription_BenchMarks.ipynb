{
 "cells": [
  {
   "cell_type": "markdown",
   "metadata": {},
   "source": [
    "This example loads the prescription of the afocal telescope for the PICTURE-C balloon and runs it for a variety of array sizes to benchmark performance.\n",
    "\n",
    "For more detailed explanations see Douglas et al. Proc. SPIE 2015 and Mendillo et al. Proc. SPIE 2015."
   ]
  },
  {
   "cell_type": "code",
   "execution_count": 26,
   "metadata": {
    "collapsed": false
   },
   "outputs": [],
   "source": [
    "%matplotlib inline\n",
    "#load modules\n",
    "import numpy as np\n",
    "import matplotlib.pyplot as plt\n",
    "\n",
    "from astropy import units as u\n",
    "from astropy.io import fits\n",
    "\n",
    "import poppy\n",
    "from poppy import fresnel\n",
    "import logging\n",
    "import os, platform, subprocess, re\n",
    "\n"
   ]
  },
  {
   "cell_type": "code",
   "execution_count": 38,
   "metadata": {
    "collapsed": false
   },
   "outputs": [
    {
     "name": "stdout",
     "output_type": "stream",
     "text": [
      "Intel(R) Core(TM) i5-3210M CPU @ 2.50GHz\n",
      "hw.memsize: 8589934592\n"
     ]
    },
    {
     "name": "stderr",
     "output_type": "stream",
     "text": [
      "cat: /proc/cpuinfo: No such file or directory\n",
      "cat: /proc/meminfo: No such file or directory\n"
     ]
    }
   ],
   "source": [
    "%%bash\n",
    "#get CPU model and total RAM:\n",
    "#print system info, the reference system is a 13\" 2012 Macbook Pro with:\n",
    "#Intel(R) Core(TM) i5-3210M CPU @ 2.50GHz\n",
    "#hw.memsize: 8589934592\n",
    "\n",
    "sysctl -n machdep.cpu.brand_string  #for Macs\n",
    "sysctl hw.memsize #for Macs\n",
    "\n",
    "cat /proc/cpuinfo | grep model #for Linux\n",
    "cat /proc/meminfo  | grep MemTotal #for Linux\n",
    "\n"
   ]
  },
  {
   "cell_type": "code",
   "execution_count": 13,
   "metadata": {
    "collapsed": false
   },
   "outputs": [],
   "source": [
    "npix=1024\n",
    "\n",
    "#import data in inches:\n",
    "inches=u.imperial.inch\n",
    "sys=np.genfromtxt('data/rx_afocal_old.csv',delimiter=',', \n",
    "                  dtype=\"S10,S10,f8,f8,f8,f8,f8,f8,f8,f8,f8,f8,f8,f8,S5,S5,\",\n",
    "                  skip_header=16,names=True)\n",
    "\n",
    "primary_r=sys['Radius_in'][0]*inches\n",
    "primary_fl=sys['Focal_Length_in'][0]*inches\n",
    "\n",
    "pic_c_sys = poppy.FresnelOpticalSystem(pupil_diameter=2*primary_r, npix=npix,beam_ratio=.34)\n",
    "\n",
    "entrance=poppy.CircularAperture(radius=primary_r.to(u.m).value)\n",
    "pic_c_sys.add_optic(entrance)\n",
    "for n_optic,optic in enumerate(sys):\n",
    "\n",
    "    fl=optic['Focal_Length_in'] *inches\n",
    "    \n",
    "    #roll the distances by one, and don't propagate after the last optic\n",
    "    # Since the POPPY system convention is the location of the optic \n",
    "    #and the PICSIM convention is the distance after the optic,\n",
    "    dz = sys[n_optic]['Distance_in'] * inches\n",
    "\n",
    "    if (n_optic == 0): \n",
    "        dz_sys = 0*u.m\n",
    "    else:\n",
    "        dz_sys = sys[n_optic-1]['Distance_in'] * inches\n",
    "\n",
    "    if fl !=0:\n",
    "        gl=fresnel.GaussianLens(fl,name=optic['Name'])\n",
    "        pic_c_sys.add_optic(gl,distance=dz_sys)\n",
    "        pic_c_sys.add_optic(poppy.CircularAperture(radius=(optic['Radius_in']*inches).to(u.m).value))\n",
    "    elif n_optic == sys.size-1:\n",
    "        #if focal lengths worked, this could be an image\n",
    "        pic_c_sys.add_optic(poppy.ScalarTransmission(planetype=poppy.PlaneType.intermediate,\n",
    "                                                     name=optic['Name']), distance=dz_sys)\n",
    "        #image plane doesn't get a circular aperture\n",
    "    else:\n",
    "        pic_c_sys.add_optic(poppy.ScalarTransmission(planetype=poppy.PlaneType.intermediate,\n",
    "                                                     name=optic['Name']), distance=dz_sys)\n",
    "        pic_c_sys.add_optic(poppy.CircularAperture(radius=(optic['Radius_in']*inches).to(u.m).value))\n",
    "    #mask the beam by the size of the optic\n",
    "\n",
    "    "
   ]
  },
  {
   "cell_type": "code",
   "execution_count": 14,
   "metadata": {
    "collapsed": false
   },
   "outputs": [
    {
     "name": "stdout",
     "output_type": "stream",
     "text": [
      "1 loops, best of 3: 1min 54s per loop\n"
     ]
    }
   ],
   "source": [
    "poppy.conf.use_fftw=True\n",
    "%timeit pic_c_sys.calcPSF(wavelength=675e-9,display_intermediates=False,return_intermediates=False)\n",
    "#1 loops, best of 3: 1min 54s per loop\n"
   ]
  },
  {
   "cell_type": "code",
   "execution_count": 15,
   "metadata": {
    "collapsed": false
   },
   "outputs": [
    {
     "name": "stdout",
     "output_type": "stream",
     "text": [
      "1 loops, best of 3: 1min 41s per loop\n"
     ]
    }
   ],
   "source": [
    "#generally, np.fft is faster for small arrays, since it has less overhead, and pyfftw is faster for big arrays\n",
    "poppy.conf.use_fftw=False\n",
    "%timeit pic_c_sys.calcPSF(wavelength=675e-9,display_intermediates=False,return_intermediates=False)\n"
   ]
  },
  {
   "cell_type": "code",
   "execution_count": 6,
   "metadata": {
    "collapsed": false
   },
   "outputs": [
    {
     "name": "stdout",
     "output_type": "stream",
     "text": [
      "CPU times: user 3.91 s, sys: 746 ms, total: 4.65 s\n",
      "Wall time: 4.64 s\n"
     ]
    }
   ],
   "source": [
    "#should take the same amount of time if returning intermediate arrays\n",
    "%time pic_c_sys.calcPSF(wavelength=675e-9,display_intermediates=False,return_intermediates=True)\n",
    "psf,waves=pic_c_sys.calcPSF(wavelength=675e-9,display_intermediates=False,return_intermediates=True)\n"
   ]
  },
  {
   "cell_type": "code",
   "execution_count": 9,
   "metadata": {
    "collapsed": false
   },
   "outputs": [
    {
     "name": "stdout",
     "output_type": "stream",
     "text": [
      "1 loops, best of 3: 1.08 s per loop\n",
      "1 loops, best of 3: 1.06 s per loop\n"
     ]
    }
   ],
   "source": [
    "pic_c_sys.npix=128\n",
    "poppy.conf.use_fftw=True\n",
    "%timeit pic_c_sys.calcPSF(wavelength=675e-9,display_intermediates=False,return_intermediates=False)\n",
    "poppy.conf.use_fftw=False\n",
    "%timeit pic_c_sys.calcPSF(wavelength=675e-9,display_intermediates=False,return_intermediates=False)"
   ]
  },
  {
   "cell_type": "code",
   "execution_count": null,
   "metadata": {
    "collapsed": false,
    "scrolled": true
   },
   "outputs": [],
   "source": []
  },
  {
   "cell_type": "code",
   "execution_count": null,
   "metadata": {
    "collapsed": false
   },
   "outputs": [],
   "source": []
  },
  {
   "cell_type": "code",
   "execution_count": null,
   "metadata": {
    "collapsed": true
   },
   "outputs": [],
   "source": []
  }
 ],
 "metadata": {
  "kernelspec": {
   "display_name": "Python 2",
   "language": "python",
   "name": "python2"
  },
  "language_info": {
   "codemirror_mode": {
    "name": "ipython",
    "version": 2
   },
   "file_extension": ".py",
   "mimetype": "text/x-python",
   "name": "python",
   "nbconvert_exporter": "python",
   "pygments_lexer": "ipython2",
   "version": "2.7.10"
  }
 },
 "nbformat": 4,
 "nbformat_minor": 0
}
