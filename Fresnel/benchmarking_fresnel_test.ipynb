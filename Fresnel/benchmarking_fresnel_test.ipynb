{
 "cells": [
  {
   "cell_type": "markdown",
   "metadata": {},
   "source": [
    "Import dependencies:"
   ]
  },
  {
   "cell_type": "code",
   "execution_count": null,
   "metadata": {
    "collapsed": true
   },
   "outputs": [],
   "source": [
    "\n",
    "\n",
    "\n"
   ]
  },
  {
   "cell_type": "code",
   "execution_count": 1,
   "metadata": {},
   "outputs": [
    {
     "name": "stderr",
     "output_type": "stream",
     "text": [
      "pyculib:1: ImportWarning: Numba version too old; expecting 0.33.0\n"
     ]
    }
   ],
   "source": [
    "import numpy as np\n",
    "import numexpr as ne\n",
    "\n",
    "#import os\n",
    "import importlib\n",
    "\n",
    "import matplotlib\n",
    "import matplotlib.pyplot as plt\n",
    "%matplotlib inline\n",
    "matplotlib.rcParams['image.origin'] = 'lower'\n",
    "matplotlib.rcParams['image.interpolation'] = 'nearest'\n",
    "matplotlib.rcParams['font.size'] = 9\n",
    "\n",
    "import astropy.io\n",
    "import astropy.units as u\n",
    "\n",
    "import poppy\n",
    "import pyfftw\n",
    "import logging\n",
    "logging.basicConfig(format='%(levelname)s:%(message)s', level=logging.WARN)\n",
    "\n",
    "\n",
    "\n",
    "%matplotlib inline\n"
   ]
  },
  {
   "cell_type": "code",
   "execution_count": null,
   "metadata": {
    "collapsed": true
   },
   "outputs": [],
   "source": []
  },
  {
   "cell_type": "markdown",
   "metadata": {},
   "source": [
    "Print the this notebook's current git commit"
   ]
  },
  {
   "cell_type": "code",
   "execution_count": 2,
   "metadata": {},
   "outputs": [
    {
     "name": "stdout",
     "output_type": "stream",
     "text": [
      "5e2c0436e2678b37a91527a266a46ab4a310ca3c\n"
     ]
    }
   ],
   "source": [
    "%%bash\n",
    "git rev-parse HEAD\n"
   ]
  },
  {
   "cell_type": "markdown",
   "metadata": {},
   "source": [
    "## Print system info"
   ]
  },
  {
   "cell_type": "markdown",
   "metadata": {},
   "source": [
    "### Software versions"
   ]
  },
  {
   "cell_type": "code",
   "execution_count": 3,
   "metadata": {},
   "outputs": [
    {
     "name": "stdout",
     "output_type": "stream",
     "text": [
      "True True True\n",
      "current POPPY version: 0.6.2.dev1158\n"
     ]
    }
   ],
   "source": [
    "from  poppy.accel_math import  _USE_CUDA, _USE_NUMEXPR, _FFTW_AVAILABLE\n",
    "\n",
    "print(_USE_CUDA, _USE_NUMEXPR,_FFTW_AVAILABLE)\n",
    "print(\"current POPPY version: \"+str(poppy.__version__))\n"
   ]
  },
  {
   "cell_type": "code",
   "execution_count": 4,
   "metadata": {},
   "outputs": [
    {
     "name": "stdout",
     "output_type": "stream",
     "text": [
      "1.11.2\n",
      "blas_mkl_info:\n",
      "    libraries = ['mkl_intel_lp64', 'mkl_intel_thread', 'mkl_core', 'iomp5', 'pthread']\n",
      "    library_dirs = ['/home/edouglas/miniconda3/envs/poppyenv/lib']\n",
      "    define_macros = [('SCIPY_MKL_H', None), ('HAVE_CBLAS', None)]\n",
      "    include_dirs = ['/home/edouglas/miniconda3/envs/poppyenv/include']\n",
      "blas_opt_info:\n",
      "    libraries = ['mkl_intel_lp64', 'mkl_intel_thread', 'mkl_core', 'iomp5', 'pthread']\n",
      "    library_dirs = ['/home/edouglas/miniconda3/envs/poppyenv/lib']\n",
      "    define_macros = [('SCIPY_MKL_H', None), ('HAVE_CBLAS', None)]\n",
      "    include_dirs = ['/home/edouglas/miniconda3/envs/poppyenv/include']\n",
      "openblas_lapack_info:\n",
      "  NOT AVAILABLE\n",
      "lapack_mkl_info:\n",
      "    libraries = ['mkl_intel_lp64', 'mkl_intel_thread', 'mkl_core', 'iomp5', 'pthread']\n",
      "    library_dirs = ['/home/edouglas/miniconda3/envs/poppyenv/lib']\n",
      "    define_macros = [('SCIPY_MKL_H', None), ('HAVE_CBLAS', None)]\n",
      "    include_dirs = ['/home/edouglas/miniconda3/envs/poppyenv/include']\n",
      "lapack_opt_info:\n",
      "    libraries = ['mkl_intel_lp64', 'mkl_intel_thread', 'mkl_core', 'iomp5', 'pthread']\n",
      "    library_dirs = ['/home/edouglas/miniconda3/envs/poppyenv/lib']\n",
      "    define_macros = [('SCIPY_MKL_H', None), ('HAVE_CBLAS', None)]\n",
      "    include_dirs = ['/home/edouglas/miniconda3/envs/poppyenv/include']\n",
      "None\n"
     ]
    }
   ],
   "source": [
    "print(np.__version__)\n",
    "print(np.__config__.show())"
   ]
  },
  {
   "cell_type": "code",
   "execution_count": 5,
   "metadata": {},
   "outputs": [
    {
     "name": "stdout",
     "output_type": "stream",
     "text": [
      "NumExpr info\n",
      "2.6.1\n",
      "mkl_info:\n",
      "    libraries = ['mkl_rt', 'pthread']\n",
      "    library_dirs = ['/home/edouglas/miniconda3/envs/poppyenv/lib']\n",
      "    define_macros = [('SCIPY_MKL_H', None), ('HAVE_CBLAS', None)]\n",
      "    include_dirs = ['/home/edouglas/miniconda3/envs/poppyenv/include']\n"
     ]
    },
    {
     "data": {
      "text/plain": [
       "(12, 8, None)"
      ]
     },
     "execution_count": 5,
     "metadata": {},
     "output_type": "execute_result"
    }
   ],
   "source": [
    "print(\"NumExpr info\")\n",
    "print(ne.__version__)\n",
    "ne.ncores,ne.nthreads,ne.show_config()"
   ]
  },
  {
   "cell_type": "code",
   "execution_count": 6,
   "metadata": {},
   "outputs": [
    {
     "name": "stdout",
     "output_type": "stream",
     "text": [
      "FFTW info\n",
      "0.9.2\n"
     ]
    }
   ],
   "source": [
    "print(\"FFTW info\")\n",
    "print(pyfftw.version)\n"
   ]
  },
  {
   "cell_type": "code",
   "execution_count": null,
   "metadata": {
    "collapsed": true
   },
   "outputs": [],
   "source": [
    "\n"
   ]
  },
  {
   "cell_type": "markdown",
   "metadata": {},
   "source": [
    "### Hardware info"
   ]
  },
  {
   "cell_type": "code",
   "execution_count": 7,
   "metadata": {},
   "outputs": [
    {
     "name": "stdout",
     "output_type": "stream",
     "text": [
      "model name\t: Intel(R) Xeon(R) CPU @ 2.20GHz\n",
      "cpu family\t: 6\n",
      "Model:                 79\n",
      "CPU(s):                12\n",
      "Thread(s) per core:    2\n",
      "Core(s) per socket:    6\n",
      "Socket(s):             1\n"
     ]
    }
   ],
   "source": [
    "%%bash\n",
    "cat /proc/cpuinfo | grep 'model name' | uniq\n",
    "cat /proc/cpuinfo | grep 'cpu family' | uniq\n",
    " lscpu | grep 'Model:' | uniq\n",
    " lscpu | egrep '^Thread|^Core|^Socket|^CPU\\('\n",
    "\n"
   ]
  },
  {
   "cell_type": "code",
   "execution_count": null,
   "metadata": {
    "collapsed": true
   },
   "outputs": [],
   "source": []
  },
  {
   "cell_type": "code",
   "execution_count": 8,
   "metadata": {},
   "outputs": [
    {
     "name": "stdout",
     "output_type": "stream",
     "text": [
      "Thu May 17 13:22:51 2018       \n",
      "+-----------------------------------------------------------------------------+\n",
      "| NVIDIA-SMI 384.111                Driver Version: 384.111                   |\n",
      "|-------------------------------+----------------------+----------------------+\n",
      "| GPU  Name        Persistence-M| Bus-Id        Disp.A | Volatile Uncorr. ECC |\n",
      "| Fan  Temp  Perf  Pwr:Usage/Cap|         Memory-Usage | GPU-Util  Compute M. |\n",
      "|===============================+======================+======================|\n",
      "|   0  Tesla V100-SXM2...  Off  | 00000000:00:04.0 Off |                    0 |\n",
      "| N/A   35C    P0    40W / 300W |     99MiB / 16152MiB |      0%      Default |\n",
      "+-------------------------------+----------------------+----------------------+\n",
      "                                                                               \n",
      "+-----------------------------------------------------------------------------+\n",
      "| Processes:                                                       GPU Memory |\n",
      "|  GPU       PID   Type   Process name                             Usage      |\n",
      "|=============================================================================|\n",
      "|    0      1912      G   /usr/lib/xorg/Xorg                            98MiB |\n",
      "+-----------------------------------------------------------------------------+\n"
     ]
    }
   ],
   "source": [
    "%%bash\n",
    "nvidia-smi\n",
    "\n"
   ]
  },
  {
   "cell_type": "markdown",
   "metadata": {},
   "source": [
    "## Benchmark some useful math"
   ]
  },
  {
   "cell_type": "code",
   "execution_count": 9,
   "metadata": {
    "collapsed": true
   },
   "outputs": [],
   "source": [
    "n=4096\n",
    "y=np.ones([n,n],dtype=np.complex128)\n",
    "x=2*np.ones([n,n],dtype=np.complex128)\n",
    "x64bit=2*np.ones([n,n],dtype=np.complex64)\n",
    "\n",
    "y64bit=2*np.ones([n,n],dtype=np.complex64)\n",
    "\n",
    "z=9#2*np.ones([n,n])#*1.j\n",
    "\n"
   ]
  },
  {
   "cell_type": "code",
   "execution_count": 10,
   "metadata": {},
   "outputs": [
    {
     "name": "stdout",
     "output_type": "stream",
     "text": [
      "NumPy:\n",
      "1.59 s ± 115 ms per loop (mean ± std. dev. of 7 runs, 1 loop each)\n",
      "Numba optimized w/o GPU:\n",
      "834 ms ± 460 µs per loop (mean ± std. dev. of 7 runs, 1 loop each)\n",
      "Numba Optimized with GPU:\n",
      "273 ms ± 114 µs per loop (mean ± std. dev. of 7 runs, 10 loops each)\n",
      "numexpr optimized:\n",
      "119 ms ± 433 µs per loop (mean ± std. dev. of 7 runs, 10 loops each)\n"
     ]
    }
   ],
   "source": [
    "print(\"NumPy:\")\n",
    "%timeit np.exp((x**2 + y**2)/z)\n",
    "\n",
    "try:\n",
    "    import numba\n",
    "    import cmath\n",
    "    dtype=numba.complex128\n",
    "    @numba.vectorize([dtype(dtype,dtype,dtype)],)\n",
    "    def fexp(x, y,z):\n",
    "        return cmath.exp((x**2 + y**2)/z)\n",
    "    print(\"Numba optimized w/o GPU:\")\n",
    "    %timeit fexp(x,y,z) #numba optimized\n",
    "except Exception as err:\n",
    "    print(err)\n",
    "    \n",
    "try:\n",
    "    import numba\n",
    "    @numba.vectorize([numba.complex128(numba.float64,numba.float64,\n",
    "                            numba.float64,numba.float64,\n",
    "                            numba.float64,numba.float64)],\n",
    "          target=\"parallel\")\n",
    "    \n",
    "    def f_xyz_def(xr,xi,\n",
    "         yr,yi,\n",
    "         zr,zi):\n",
    "        x=complex(xr,xi)\n",
    "\n",
    "        y=complex(yr,yi)\n",
    "\n",
    "        z=complex(zr,zi)\n",
    "        return cmath.cos((x**2+y**2)/z) + 1j*cmath.sin((x**2+y**2)/z)\n",
    "        #return cmath.exp((x**2+y**2)/z)\n",
    "    print(\"Numba Optimized with GPU:\")\n",
    "    %timeit f_xyz_def(x.real,x.imag,y.real,y.imag,z.real,z.imag)\n",
    "except Exception as err:\n",
    "    print(err)\n",
    "\n",
    "\n",
    "print(\"numexpr optimized:\")\n",
    "%timeit ne.evaluate(\"exp((x**2 + y**2)/z)\")\n",
    "\n",
    "\n"
   ]
  },
  {
   "cell_type": "code",
   "execution_count": 11,
   "metadata": {},
   "outputs": [
    {
     "data": {
      "text/plain": [
       "(4096, 4096)"
      ]
     },
     "execution_count": 11,
     "metadata": {},
     "output_type": "execute_result"
    }
   ],
   "source": [
    "x.shape"
   ]
  },
  {
   "cell_type": "code",
   "execution_count": 12,
   "metadata": {},
   "outputs": [
    {
     "name": "stdout",
     "output_type": "stream",
     "text": [
      "83.4 ms ± 569 µs per loop (mean ± std. dev. of 7 runs, 10 loops each)\n",
      "831 ms ± 24.3 ms per loop (mean ± std. dev. of 7 runs, 1 loop each)\n",
      "718 ms ± 1.31 ms per loop (mean ± std. dev. of 7 runs, 1 loop each)\n",
      "2.39 s ± 41.6 ms per loop (mean ± std. dev. of 7 runs, 1 loop each)\n"
     ]
    }
   ],
   "source": [
    "#confirm that exponents are faster than trigonometry\n",
    "\n",
    "%timeit ne.evaluate(\"exp(x)\")\n",
    "%timeit ne.evaluate(\"cos(x)+1j*sin(x)\")\n",
    "%timeit np.exp(x)\n",
    "%timeit np.cos(x)+1j*np.sin(x)"
   ]
  },
  {
   "cell_type": "code",
   "execution_count": 13,
   "metadata": {},
   "outputs": [
    {
     "name": "stdout",
     "output_type": "stream",
     "text": [
      "unplanned CUDA FFT:\n",
      "142 ms ± 18.7 ms per loop (mean ± std. dev. of 7 runs, 1 loop each)\n",
      "unplanned CUDA FFT, 64 bit complex:\n",
      "71.7 ms ± 777 µs per loop (mean ± std. dev. of 7 runs, 10 loops each)\n",
      "planned CUDA FFT:\n",
      "137 ms ± 1.75 ms per loop (mean ± std. dev. of 7 runs, 10 loops each)\n",
      "planned CUDA FFT, 64 bit complex:\n",
      "69.1 ms ± 706 µs per loop (mean ± std. dev. of 7 runs, 10 loops each)\n",
      "pyFFTW 32 threads:\n",
      "786 ms ± 1.56 ms per loop (mean ± std. dev. of 7 runs, 1 loop each)\n",
      "pyFFTW 32 threads, 64 bit complex:\n",
      "409 ms ± 886 µs per loop (mean ± std. dev. of 7 runs, 1 loop each)\n",
      "pyFFTW 16 threads:\n",
      "786 ms ± 2.4 ms per loop (mean ± std. dev. of 7 runs, 1 loop each)\n",
      "numpy FFT:\n",
      "2.1 s ± 8.01 ms per loop (mean ± std. dev. of 7 runs, 1 loop each)\n",
      "numpy FFT, 64 bit complex: \n",
      "2.04 s ± 21 ms per loop (mean ± std. dev. of 7 runs, 1 loop each)\n"
     ]
    }
   ],
   "source": [
    "try:\n",
    "    try:\n",
    "        import pyculib as cuda\n",
    "    except:\n",
    "        print(\"failed to import pyculib FFT package\")\n",
    "        import accelerate.cuda as cuda\n",
    "\n",
    "    print(\"unplanned CUDA FFT:\")\n",
    "    t=%timeit -o cuda.fft.ifft(y,out=x)\n",
    "    print(\"unplanned CUDA FFT, 64 bit complex:\")\n",
    "    %timeit cuda.fft.ifft(y64bit,out=x64bit)\n",
    "    \n",
    "    plan=cuda.fft.FFTPlan(y.shape,np.complex128,np.complex128)\n",
    "    plan64=cuda.fft.FFTPlan(x64bit.shape,np.complex64,np.complex64)\n",
    "    print(\"planned CUDA FFT:\")\n",
    "    %timeit plan.inverse(y,out=x)\n",
    "    print(\"planned CUDA FFT, 64 bit complex:\")\n",
    "    %timeit plan64.inverse(x64bit,out=y64bit)\n",
    "\n",
    "\n",
    "\n",
    "except Exception as err:\n",
    "    print(err)\n",
    "    \n",
    "try:\n",
    "    import pyfftw\n",
    "    print(\"pyFFTW 32 threads:\")\n",
    "    %timeit pyfftw.interfaces.numpy_fft.ifft2(y,threads=32)\n",
    "    print(\"pyFFTW 32 threads, 64 bit complex:\")\n",
    "    %timeit pyfftw.interfaces.numpy_fft.ifft2(x64bit,threads=32)\n",
    "    print(\"pyFFTW 16 threads:\")\n",
    "    %timeit pyfftw.interfaces.numpy_fft.ifft2(y,threads=16)\n",
    "except Exception as err:\n",
    "    print(err)\n",
    "    \n",
    "print(\"numpy FFT:\")\n",
    "%timeit np.fft.ifft2(y)\n",
    "print(\"numpy FFT, 64 bit complex: \")\n",
    "%timeit np.fft.ifft2(x64bit)"
   ]
  },
  {
   "cell_type": "code",
   "execution_count": 14,
   "metadata": {},
   "outputs": [
    {
     "name": "stdout",
     "output_type": "stream",
     "text": [
      "99.7 ms ± 1.89 ms per loop (mean ± std. dev. of 7 runs, 10 loops each)\n",
      "98.9 ms ± 2.27 ms per loop (mean ± std. dev. of 7 runs, 10 loops each)\n"
     ]
    },
    {
     "data": {
      "text/plain": [
       "<TimeitResult : 98.9 ms ± 2.27 ms per loop (mean ± std. dev. of 7 runs, 10 loops each)>"
      ]
     },
     "execution_count": 14,
     "metadata": {},
     "output_type": "execute_result"
    }
   ],
   "source": [
    "\n",
    "import pyculib\n",
    "import accelerate.cuda \n",
    "%timeit -o accelerate.cuda.fft.ifft(y,out=x)\n",
    "%timeit -o pyculib.fft.ifft(y,out=x)\n",
    "\n",
    "\n"
   ]
  },
  {
   "cell_type": "code",
   "execution_count": null,
   "metadata": {
    "collapsed": true
   },
   "outputs": [],
   "source": []
  },
  {
   "cell_type": "code",
   "execution_count": 15,
   "metadata": {},
   "outputs": [
    {
     "name": "stdout",
     "output_type": "stream",
     "text": [
      "443 ms ± 638 µs per loop (mean ± std. dev. of 7 runs, 1 loop each)\n",
      "82.4 ms ± 1.73 ms per loop (mean ± std. dev. of 7 runs, 10 loops each)\n",
      "1.77 s ± 1.04 ms per loop (mean ± std. dev. of 7 runs, 1 loop each)\n",
      "326 ms ± 33.1 ms per loop (mean ± std. dev. of 7 runs, 1 loop each)\n"
     ]
    }
   ],
   "source": [
    "# Test FFT shifts\n",
    "%timeit np.fft.fftshift(x)\n",
    "%timeit poppy.accel_math._fftshift(x)\n",
    "array8192=np.ones([8192,8192],dtype=np.complex128)\n",
    "\n",
    "npshift_t= %timeit -o np.fft.fftshift(array8192)\n",
    "try:\n",
    "    cudashift_t=%timeit -o poppy.accel_math._fftshift(array8192)\n",
    "except Exception as err:\n",
    "    print(err)\n",
    "\n"
   ]
  },
  {
   "cell_type": "code",
   "execution_count": 16,
   "metadata": {},
   "outputs": [
    {
     "name": "stdout",
     "output_type": "stream",
     "text": [
      "551 ms ± 1.68 ms per loop (mean ± std. dev. of 7 runs, 1 loop each)\n"
     ]
    }
   ],
   "source": [
    "#fraunhofer system\n",
    "osys_fraun = poppy.OpticalSystem(npix=2048,oversample=4)\n",
    "osys_fraun.add_pupil( poppy.CircularAperture(radius=3))    # pupil radius in meters\n",
    "osys_fraun.add_detector(pixelscale=0.010, fov_arcsec=2.0)  # image plane coordinates in arcseconds\n",
    "\n",
    "%timeit psf = osys_fraun.calc_psf(2e-6,display_intermediates=False)# wavelength in microns\n"
   ]
  },
  {
   "cell_type": "markdown",
   "metadata": {},
   "source": [
    "## Define test system"
   ]
  },
  {
   "cell_type": "code",
   "execution_count": null,
   "metadata": {
    "collapsed": true
   },
   "outputs": [],
   "source": []
  },
  {
   "cell_type": "code",
   "execution_count": 17,
   "metadata": {
    "collapsed": true
   },
   "outputs": [],
   "source": [
    "intermediate=  poppy.poppy_core.PlaneType.intermediate \n",
    "wavelen = 770e-9\n",
    "\n",
    "D_prim = 2.37 * u.m\n",
    "fr_pri = 7.8\n",
    "fl_pri = D_prim * fr_pri\n",
    "\n",
    "D_relay = 20 * u.mm\n",
    "fl_m2 = fl_pri * D_relay / D_prim\n",
    "fr_m3 = 20.\n",
    "fl_m3 = fr_m3 * D_relay\n",
    "\n",
    "def optsys(npix=1024,ratio=0.25):\n",
    "    '''\n",
    "    initiate a WFIRST-like 3 mirror system\n",
    "    \n",
    "    '''\n",
    "    \n",
    "    optsys = poppy.FresnelOpticalSystem(pupil_diameter=D_prim,\n",
    "    \t\t\t\t\t\t npix=npix, beam_ratio=ratio)\n",
    "\n",
    "    m1 = poppy.QuadraticLens(fl_pri, name='Primary')\n",
    "    m2 = poppy.QuadraticLens(fl_m2, name='M2')\n",
    "    m3 = poppy.QuadraticLens(fl_m3, name='M3')\n",
    "\n",
    "    optsys.add_optic(poppy.CircularAperture(radius=D_prim.value/2))\n",
    "    optsys.add_optic(m1)\n",
    "    optsys.add_optic(m2, distance = fl_pri + fl_m2)\n",
    "    optsys.add_optic(m3, distance = fl_m2 + fl_m3)\n",
    "\n",
    "    optsys.add_optic(poppy.ScalarTransmission(planetype=intermediate,\n",
    "    name='focus'),\n",
    "    \t distance=fl_m3)\n",
    "    return optsys\n",
    "    \n"
   ]
  },
  {
   "cell_type": "code",
   "execution_count": null,
   "metadata": {
    "collapsed": true
   },
   "outputs": [],
   "source": [
    "\n",
    "\n"
   ]
  },
  {
   "cell_type": "code",
   "execution_count": 18,
   "metadata": {},
   "outputs": [
    {
     "name": "stdout",
     "output_type": "stream",
     "text": [
      "False False False True\n"
     ]
    }
   ],
   "source": [
    "test_optsys= optsys()\n",
    "poppy.accel_math._FFTW_AVAILABLE= True\n",
    "poppy.accel_math._CUDA_AVAILABLE= False\n",
    "poppy.accel_math._USE_CUDA= False\n",
    "poppy.accel_math._USE_NUMEXPR=False\n",
    "\n",
    "\n",
    "#reload libraries to make sure variables are set.\n",
    "importlib.reload(poppy.fresnel)\n",
    "importlib.reload(poppy.optics)\n",
    "importlib.reload(poppy)\n",
    "\n",
    "\n",
    "print(poppy.accel_math._USE_CUDA,poppy.accel_math._CUDA_AVAILABLE,poppy.accel_math._USE_NUMEXPR,poppy.conf.use_fftw )\n",
    "test_optsys=optsys(npix=1024,ratio=0.25)\n",
    "#run one test case so FFTW wisdom is cached.\n",
    "t1=test_optsys.calcPSF(wavelength=wavelen, display_intermediates=False, return_intermediates=False)\n",
    "        #run timed test"
   ]
  },
  {
   "cell_type": "code",
   "execution_count": 19,
   "metadata": {
    "scrolled": true
   },
   "outputs": [
    {
     "name": "stdout",
     "output_type": "stream",
     "text": [
      "31.3 s ± 1.87 s per loop (mean ± std. dev. of 7 runs, 1 loop each)\n"
     ]
    }
   ],
   "source": [
    "time = %timeit -o test_optsys.calcPSF(wavelength=wavelen, display_intermediates=False, return_intermediates=False)"
   ]
  },
  {
   "cell_type": "code",
   "execution_count": 20,
   "metadata": {},
   "outputs": [
    {
     "name": "stdout",
     "output_type": "stream",
     "text": [
      " "
     ]
    }
   ],
   "source": [
    "import logging\n",
    "logger = logging.getLogger(\"poppy\")\n",
    "logger.setLevel(logging.WARN)\n",
    "\n",
    "psf_timing = %prun -r  -s  tottime test_optsys.calcPSF(wavelength=wavelen, display_intermediates=False, return_intermediates=False)\n",
    "\n",
    "\n",
    "\n"
   ]
  },
  {
   "cell_type": "code",
   "execution_count": 21,
   "metadata": {},
   "outputs": [
    {
     "name": "stdout",
     "output_type": "stream",
     "text": [
      "         37607 function calls (37463 primitive calls) in 30.229 seconds\n",
      "\n",
      "   Ordered by: internal time\n",
      "\n",
      "   ncalls  tottime  percall  cumtime  percall filename:lineno(function)\n",
      "        8    9.126    1.141    9.126    1.141 accel_math.py:79(_exp)\n",
      "        6    4.127    0.688   11.905    1.984 fresnel.py:56(get_phasor)\n",
      "       29    3.256    0.112    3.256    0.112 {method 'take' of 'numpy.ndarray' objects}\n",
      "       19    2.985    0.157    2.985    0.157 {method 'copy' of 'numpy.ndarray' objects}\n",
      "        2    1.989    0.994    3.031    1.515 optics.py:97(get_phasor)\n",
      "        2    1.599    0.800    7.839    3.919 fresnel.py:597(_propagate_ptp)\n",
      "        7    1.579    0.226    5.075    0.725 _utils.py:29(_Xfftn)\n",
      "        9    1.403    0.156    1.404    0.156 fresnel.py:408(pupil_coordinates)\n",
      "        8    0.724    0.090   16.724    2.090 poppy_core.py:183(__imul__)\n",
      "        2    0.614    0.307    0.614    0.307 poppy_core.py:596(intensity)\n",
      "        7    0.553    0.079    1.997    0.285 _utils.py:55(_Xfftn)\n",
      "        7    0.343    0.049    5.477    0.782 accel_math.py:139(fft_2d)\n",
      "        1    0.336    0.336    0.336    0.336 accel_math.py:71(_r)\n",
      "        1    0.232    0.232    0.232    0.232 {built-in method numpy.core.multiarray.where}\n",
      "        1    0.181    0.181    0.974    0.974 optics.py:1035(get_transmission)\n",
      "        1    0.166    0.166    0.166    0.166 numeric.py:1936(indices)\n",
      "       16    0.116    0.007    0.116    0.007 {method 'reduce' of 'numpy.ufunc' objects}\n",
      "        1    0.112    0.112    0.409    0.409 poppy_core.py:175(normalize)\n",
      "       11    0.085    0.008    3.342    0.304 helper.py:19(fftshift)\n",
      "        2    0.070    0.035    0.070    0.035 {built-in method numpy.core.multiarray.copyto}\n",
      "        1    0.068    0.068    0.068    0.068 {method 'fill' of 'numpy.ndarray' objects}\n",
      "     11/8    0.067    0.006   16.808    2.101 fresnel.py:825(__imul__)\n",
      "        3    0.063    0.021    7.886    2.629 fresnel.py:100(get_phasor)\n",
      "     23/1    0.060    0.003   30.224   30.224 utils.py:1277(unit_check_wrapper)\n",
      "        3    0.057    0.019   20.391    6.797 fresnel.py:756(propagate_fresnel)\n",
      "        5    0.046    0.009    3.901    0.780 fresnel.py:352(_fft)\n",
      "        5    0.042    0.008    3.604    0.721 numpy_fft.py:81(fft2)\n",
      "        5    0.042    0.008    1.471    0.294 builders.py:288(fft2)\n",
      "        1    0.034    0.034    0.215    0.215 fresnel.py:179(__init__)\n",
      "        2    0.017    0.008    1.530    0.765 numpy_fft.py:96(ifft2)\n",
      "        2    0.017    0.008    1.639    0.820 fresnel.py:358(_inv_fft)\n",
      "        2    0.017    0.008    0.585    0.293 builders.py:307(ifft2)\n",
      "        1    0.017    0.017   30.223   30.223 poppy_core.py:1532(calc_psf)\n",
      "        1    0.012    0.012    0.012    0.012 utils.py:1039(pad_to_oversample)\n",
      "       24    0.006    0.000    0.006    0.000 {method 'copy' of 'dict' objects}\n",
      "     1296    0.005    0.000    0.005    0.000 {method 'copy' of 'set' objects}\n",
      "        1    0.004    0.004    0.450    0.450 poppy_core.py:236(as_fits)\n",
      "        1    0.004    0.004   30.229   30.229 <string>:1(<module>)\n",
      "        1    0.004    0.004    0.297    0.297 poppy_core.py:620(total_intensity)\n",
      "       24    0.004    0.000    0.004    0.000 core.py:278(__exit__)\n",
      "      270    0.003    0.000    0.017    0.000 quantity.py:362(__array_prepare__)\n",
      "      134    0.001    0.000    0.006    0.000 core.py:2062(_expand_and_gather)\n",
      "     3702    0.001    0.000    0.002    0.000 {built-in method builtins.isinstance}\n",
      "      307    0.001    0.000    0.004    0.000 quantity.py:654(_new_view)\n",
      "     1883    0.001    0.000    0.001    0.000 {built-in method builtins.getattr}\n",
      "     1296    0.001    0.000    0.002    0.000 {built-in method builtins.hasattr}\n",
      "      616    0.001    0.000    0.002    0.000 core.py:727(__hash__)\n",
      "  528/433    0.001    0.000    0.004    0.000 {method 'format' of 'str' objects}\n",
      "      161    0.001    0.000    0.003    0.000 configuration.py:380(__call__)\n",
      "       24    0.001    0.000    0.004    0.000 core.py:128(<dictcomp>)\n",
      "      382    0.001    0.000    0.001    0.000 {built-in method numpy.core.multiarray.array}\n",
      "      444    0.001    0.000    0.001    0.000 abc.py:178(__instancecheck__)\n",
      "       24    0.001    0.000    0.001    0.000 inspect.py:2797(_bind)\n",
      "      212    0.001    0.000    0.001    0.000 configuration.py:481(get_config)\n",
      "      541    0.001    0.000    0.001    0.000 {method 'view' of 'numpy.ndarray' objects}\n",
      "        7    0.001    0.000    0.001    0.000 {built-in method pyfftw.pyfftw.n_byte_align_empty}\n",
      "        3    0.001    0.000    5.350    1.783 fresnel.py:837(apply_lens_power)\n",
      "       46    0.001    0.000    0.001    0.000 {built-in method numpy.core.multiarray.arange}\n",
      "      188    0.001    0.000    0.002    0.000 core.py:2063(add_unit)\n",
      "      643    0.000    0.000    0.001    0.000 quantity.py:348(__array_finalize__)\n",
      "       25    0.000    0.000    0.002    0.000 core.py:709(__rmul__)\n",
      "      274    0.000    0.000    0.001    0.000 quantity.py:860(__getattr__)\n",
      "      134    0.000    0.000    0.007    0.000 core.py:2000(__init__)\n",
      "       53    0.000    0.000    0.003    0.000 quantity.py:921(__mul__)\n",
      "       52    0.000    0.000    0.005    0.000 quantity.py:948(__truediv__)\n",
      "      107    0.000    0.000    0.001    0.000 generic.py:25(_to_string)\n",
      "      118    0.000    0.000    0.001    0.000 core.py:944(_to)\n",
      "      730    0.000    0.000    0.000    0.000 _weakrefset.py:70(__contains__)\n",
      "      270    0.000    0.000    0.002    0.000 quantity.py:543(__array_wrap__)\n",
      "       58    0.000    0.000    0.001    0.000 card.py:291(value)\n",
      "      158    0.000    0.000    0.000    0.000 {built-in method builtins.format}\n",
      "       41    0.000    0.000    0.002    0.000 header.py:1125(append)\n",
      "      310    0.000    0.000    0.001    0.000 <frozen importlib._bootstrap>:402(parent)\n",
      "      548    0.000    0.000    0.000    0.000 {built-in method builtins.any}\n",
      "       79    0.000    0.000    0.002    0.000 quantity_helper.py:288(get_converters_and_unit)\n",
      "        1    0.000    0.000    0.000    0.000 {pyfftw.pyfftw.export_wisdom}\n",
      "       83    0.000    0.000    0.005    0.000 core.py:653(__div__)\n",
      "       25    0.000    0.000    0.001    0.000 quantity.py:233(__new__)\n",
      "      137    0.000    0.000    0.000    0.000 quantity.py:777(value)\n",
      "       89    0.000    0.000    0.002    0.000 quantity.py:1109(_unitstr)\n",
      "       22    0.000    0.000    0.000    0.000 {built-in method numpy.core.multiarray.concatenate}\n",
      "      920    0.000    0.000    0.000    0.000 core.py:1585(name)\n",
      "       40    0.000    0.000    0.003    0.000 quantity.py:997(__pow__)\n",
      "       79    0.000    0.000    0.003    0.000 quantity.py:1175(__format__)\n",
      "      164    0.000    0.000    0.001    0.000 utils.py:155(validate_power)\n",
      "      172    0.000    0.000    0.001    0.000 {method 'sort' of 'list' objects}\n",
      "       58    0.000    0.000    0.000    0.000 core.py:540(_get_physical_type_id)\n",
      "       39    0.000    0.000    0.000    0.000 core.py:891(<lambda>)\n",
      "      343    0.000    0.000    0.000    0.000 quantity.py:711(_set_unit)\n",
      "      161    0.000    0.000    0.000    0.000 validate.py:638(_parse_with_caching)\n",
      "        7    0.000    0.000    0.000    0.000 {built-in method posix.cpu_count}\n",
      "1532/1509    0.000    0.000    0.000    0.000 {built-in method builtins.len}\n",
      "        2    0.000    0.000    6.842    3.421 fresnel.py:697(_propagate_stw)\n",
      "      171    0.000    0.000    0.000    0.000 core.py:2122(decompose)\n",
      "      270    0.000    0.000    0.001    0.000 quantity.py:387(<listcomp>)\n",
      "       38    0.000    0.000    0.002    0.000 quantity.py:748(to)\n",
      "      335    0.000    0.000    0.000    0.000 configobj.py:554(__getitem__)\n",
      "       19    0.000    0.000    0.002    0.000 quantity.py:968(__rtruediv__)\n",
      "      246    0.000    0.000    0.000    0.000 {method 'match' of '_sre.SRE_Pattern' objects}\n",
      "       23    0.000    0.000    0.000    0.000 inspect.py:2545(args)\n",
      "      161    0.000    0.000    0.001    0.000 configuration.py:447(_validate_val)\n",
      "       29    0.000    0.000    3.256    0.112 fromnumeric.py:55(take)\n",
      "      677    0.000    0.000    0.000    0.000 quantity.py:786(unit)\n",
      "       24    0.000    0.000    0.012    0.000 core.py:115(__init__)\n",
      "       96    0.000    0.000    0.000    0.000 __init__.py:1542(isEnabledFor)\n",
      "       11    0.000    0.000    3.342    0.304 accel_math.py:90(_fftshift)\n",
      "       51    0.000    0.000    0.003    0.000 card.py:153(__init__)\n",
      "      161    0.000    0.000    0.001    0.000 validate.py:594(check)\n",
      "      310    0.000    0.000    0.001    0.000 <frozen importlib._bootstrap>:989(_handle_fromlist)\n",
      "      158    0.000    0.000    0.000    0.000 six.py:580(iteritems)\n",
      "       21    0.000    0.000    0.000    0.000 header.py:1763(_updateindices)\n",
      "      161    0.000    0.000    0.000    0.000 validate.py:652(_check_value)\n",
      "      161    0.000    0.000    0.003    0.000 configuration.py:275(__get__)\n",
      "      398    0.000    0.000    0.000    0.000 core.py:1776(__call__)\n",
      "      134    0.000    0.000    0.000    0.000 core.py:1558(get_format_name)\n",
      "      265    0.000    0.000    0.000    0.000 {method 'split' of 'str' objects}\n",
      "      310    0.000    0.000    0.000    0.000 {method 'rpartition' of 'str' objects}\n",
      "       89    0.000    0.000    0.002    0.000 core.py:527(__unicode__)\n",
      "       42    0.000    0.000    0.004    0.000 header.py:1591(_update)\n",
      "       79    0.000    0.000    0.001    0.000 quantity_helper.py:18(get_converter)\n",
      "       68    0.000    0.000    0.004    0.000 quantity_helper.py:216(<lambda>)\n",
      "        1    0.000    0.000   30.187   30.187 fresnel.py:1059(propagate_mono)\n",
      "       23    0.000    0.000    0.001    0.000 core.py:771(is_equivalent)\n",
      "        7    0.000    0.000    0.000    0.000 _utils.py:338(_cook_nd_args)\n",
      "      741    0.000    0.000    0.000    0.000 quantity.py:402(<genexpr>)\n",
      "      616    0.000    0.000    0.000    0.000 {built-in method builtins.hash}\n",
      "        1    0.000    0.000    3.607    3.607 fresnel.py:656(_propagate_wts)\n",
      "       74    0.000    0.000    0.000    0.000 core.py:2141(is_unity)\n",
      "       92    0.000    0.000    0.000    0.000 __init__.py:1284(debug)\n",
      "        3    0.000    0.000    0.002    0.001 fresnel.py:739(planar_range)\n",
      "       22    0.000    0.000    0.006    0.000 fresnel.py:314(z_r)\n",
      "       55    0.000    0.000    0.001    0.000 core.py:691(__mul__)\n",
      "       51    0.000    0.000    0.001    0.000 card.py:576(_check_if_rvkc)\n",
      "       26    0.000    0.000    0.000    0.000 numeric.py:2064(isscalar)\n",
      "      134    0.000    0.000    0.000    0.000 generic.py:481(_get_unit_name)\n",
      "      425    0.000    0.000    0.000    0.000 {method 'get' of 'dict' objects}\n",
      "      515    0.000    0.000    0.000    0.000 {method 'append' of 'list' objects}\n",
      "      134    0.000    0.000    0.001    0.000 core.py:2113(<listcomp>)\n",
      "      180    0.000    0.000    0.000    0.000 utils.py:127(is_effectively_unity)\n",
      "       10    0.000    0.000    0.001    0.000 quantity.py:895(__eq__)\n",
      "        1    0.000    0.000    0.001    0.001 utils.py:1625(fftw_save_wisdom)\n",
      "      619    0.000    0.000    0.000    0.000 inspect.py:2460(kind)\n",
      "       51    0.000    0.000    0.000    0.000 card.py:223(keyword)\n",
      "      272    0.000    0.000    0.000    0.000 {built-in method builtins.iter}\n",
      "        5    0.000    0.000   20.394    4.079 fresnel.py:553(propagate_to)\n",
      "      180    0.000    0.000    0.000    0.000 utils.py:137(sanitize_scale)\n",
      "      287    0.000    0.000    0.000    0.000 {method 'join' of 'str' objects}\n",
      "       39    0.000    0.000    0.001    0.000 core.py:977(to)\n",
      "       23    0.000    0.000    0.000    0.000 inspect.py:2568(kwargs)\n",
      "       96    0.000    0.000    0.000    0.000 __init__.py:1528(getEffectiveLevel)\n",
      "       42    0.000    0.000    0.004    0.000 header.py:157(__setitem__)\n",
      "       54    0.000    0.000    0.001    0.000 quantity_helper.py:213(<lambda>)\n",
      "        6    0.000    0.000    0.101    0.017 fromnumeric.py:2200(amax)\n",
      "      117    0.000    0.000    0.001    0.000 utils.py:209(resolve_fractions)\n",
      "      473    0.000    0.000    0.000    0.000 card.py:211(keyword)\n",
      "        6    0.000    0.000    0.000    0.000 quantity.py:56(_can_have_arbitrary_unit)\n",
      "        5    0.000    0.000    0.000    0.000 quantity.py:909(__ne__)\n",
      "       24    0.000    0.000    0.012    0.001 core.py:430(add_enabled_equivalencies)\n",
      "       39    0.000    0.000    0.000    0.000 core.py:2309(_condition_arg)\n",
      "       31    0.000    0.000    0.001    0.000 header.py:1375(insert)\n",
      "      130    0.000    0.000    0.000    0.000 {built-in method builtins.all}\n",
      "      161    0.000    0.000    0.000    0.000 validate.py:898(is_boolean)\n",
      "      114    0.000    0.000    0.000    0.000 card.py:542(normalize_keyword)\n",
      "       47    0.000    0.000    0.000    0.000 header.py:1634(_cardindex)\n",
      "      636    0.000    0.000    0.000    0.000 core.py:581(scale)\n",
      "       47    0.000    0.000    0.000    0.000 core.py:69(_normalize_equivalencies)\n",
      "       31    0.000    0.000    0.000    0.000 generic.py:485(_format_unit_list)\n",
      "      107    0.000    0.000    0.001    0.000 generic.py:503(to_string)\n",
      "      118    0.000    0.000    0.000    0.000 core.py:2110(<lambda>)\n",
      "       24    0.000    0.000    0.012    0.000 core.py:271(__init__)\n",
      "       23    0.000    0.000    0.000    0.000 core.py:623(_normalize_equivalencies)\n",
      "        9    0.000    0.000    1.404    0.156 fresnel.py:443(coordinates)\n",
      "       39    0.000    0.000    0.000    0.000 hdulist.py:274(__getitem__)\n",
      "        1    0.000    0.000    0.000    0.000 {built-in method io.open}\n",
      "       32    0.000    0.000    0.000    0.000 {built-in method numpy.core.multiarray.can_cast}\n",
      "      295    0.000    0.000    0.000    0.000 core.py:2041(scale)\n",
      "      134    0.000    0.000    0.000    0.000 core.py:2109(<listcomp>)\n",
      "       39    0.000    0.000    0.000    0.000 core.py:882(_get_converter)\n",
      "        5    0.000    0.000    0.000    0.000 {built-in method numpy.core.multiarray.zeros}\n",
      "       27    0.000    0.000    0.000    0.000 utils.py:18(get_grouped_by_powers)\n",
      "      280    0.000    0.000    0.000    0.000 quantity.py:636(__quantity_subclass__)\n",
      "        3    0.000    0.000    0.002    0.001 fresnel.py:387(spot_radius)\n",
      "       46    0.000    0.000    0.002    0.000 core.py:650(__pow__)\n",
      "       22    0.000    0.000    0.002    0.000 header.py:1839(_splitcommentary)\n",
      "       40    0.000    0.000    0.002    0.000 quantity_helper.py:85(<lambda>)\n",
      "      258    0.000    0.000    0.000    0.000 core.py:2055(powers)\n",
      "        4    0.000    0.000    0.002    0.001 fresnel.py:364(r_c)\n",
      "       21    0.000    0.000    0.000    0.000 header.py:1336(index)\n",
      "      132    0.000    0.000    0.000    0.000 {method 'item' of 'numpy.ndarray' objects}\n",
      "      136    0.000    0.000    0.000    0.000 card.py:459(field_specifier)\n",
      "       24    0.000    0.000    0.000    0.000 core.py:249(add_enabled_equivalencies)\n",
      "      431    0.000    0.000    0.000    0.000 core.py:2048(bases)\n",
      "        6    0.000    0.000    0.001    0.000 fresnel.py:43(__init__)\n",
      "      437    0.000    0.000    0.000    0.000 inspect.py:2448(name)\n",
      "        4    0.000    0.000    0.000    0.000 {built-in method numpy.core.multiarray.empty}\n",
      "       24    0.000    0.000    0.000    0.000 misc.py:39(isiterable)\n",
      "       24    0.000    0.000    0.001    0.000 inspect.py:2928(bind)\n",
      "       29    0.000    0.000    0.000    0.000 core.py:226(equivalencies)\n",
      "        8    0.000    0.000    0.000    0.000 fromnumeric.py:42(_wrapit)\n",
      "      170    0.000    0.000    0.000    0.000 quantity_helper.py:292(<genexpr>)\n",
      "      134    0.000    0.000    0.000    0.000 core.py:2112(<listcomp>)\n",
      "      159    0.000    0.000    0.000    0.000 {method 'items' of 'dict' objects}\n",
      "      134    0.000    0.000    0.000    0.000 {built-in method builtins.next}\n",
      "       10    0.000    0.000    0.000    0.000 quantity.py:1123(__str__)\n",
      "       18    0.000    0.000    0.000    0.000 {method 'astype' of 'numpy.ndarray' objects}\n",
      "       23    0.000    0.000    0.000    0.000 core.py:802(_is_equivalent)\n",
      "        1    0.000    0.000    0.001    0.001 image.py:40(__init__)\n",
      "       50    0.000    0.000    0.001    0.000 quantity_helper.py:320(helper_twoarg_invariant)\n",
      "        7    0.000    0.000    0.000    0.000 _utils.py:289(_compute_array_shapes)\n",
      "       15    0.000    0.000    0.000    0.000 header.py:135(__getitem__)\n",
      "       58    0.000    0.000    0.000    0.000 core.py:548(<listcomp>)\n",
      "       31    0.000    0.000    0.000    0.000 generic.py:488(<lambda>)\n",
      "       61    0.000    0.000    0.000    0.000 header.py:1795(_haswildcard)\n",
      "        6    0.000    0.000    0.000    0.000 poppy_core.py:1853(__init__)\n",
      "      264    0.000    0.000    0.000    0.000 quantity_helper.py:11(_d)\n",
      "       44    0.000    0.000    0.000    0.000 numeric.py:414(asarray)\n",
      "        2    0.000    0.000    0.001    0.000 image.py:311(update_header)\n",
      "       94    0.000    0.000    0.000    0.000 inspect.py:2753(parameters)\n",
      "       12    0.000    0.000    0.000    0.000 core.py:1346(physical_type)\n",
      "       39    0.000    0.000    0.000    0.000 hdulist.py:1057(_try_while_unread_hdus)\n",
      "       48    0.000    0.000    0.000    0.000 {method 'values' of 'mappingproxy' objects}\n",
      "       75    0.000    0.000    0.000    0.000 core.py:1682(decompose)\n",
      "       46    0.000    0.000    0.000    0.000 core.py:2014(<listcomp>)\n",
      "        7    0.000    0.000    0.001    0.000 header.py:844(set)\n",
      "       42    0.000    0.000    0.000    0.000 six.py:577(itervalues)\n",
      "        6    0.000    0.000    0.000    0.000 optics.py:78(__str__)\n",
      "       77    0.000    0.000    0.000    0.000 core.py:285(get_current_unit_registry)\n",
      "      102    0.000    0.000    0.000    0.000 core.py:970(<genexpr>)\n",
      "        7    0.000    0.000    0.000    0.000 type_check.py:237(iscomplexobj)\n",
      "       51    0.000    0.000    0.000    0.000 {method 'rsplit' of 'str' objects}\n",
      "        1    0.000    0.000    0.217    0.217 fresnel.py:1031(input_wavefront)\n",
      "        1    0.000    0.000    0.216    0.216 decorators.py:80(wrapper)\n",
      "        5    0.000    0.000   20.398    4.080 decorators.py:873(propagate_to)\n",
      "        7    0.000    0.000    0.003    0.000 fresnel.py:336(param_str)\n",
      "       39    0.000    0.000    0.000    0.000 hdulist.py:630(index_of)\n",
      "       14    0.000    0.000    0.000    0.000 header.py:1780(_countblanks)\n",
      "       29    0.000    0.000    0.001    0.000 quantity_helper.py:336(helper_twoarg_comparison)\n",
      "        6    0.000    0.000    0.000    0.000 accel_math.py:60(_float)\n",
      "        1    0.000    0.000    0.000    0.000 {built-in method _pickle.dumps}\n",
      "        7    0.000    0.000    0.000    0.000 card.py:931(_format_image)\n",
      "        1    0.000    0.000    0.002    0.002 poppy_core.py:120(__init__)\n",
      "       42    0.000    0.000    0.000    0.000 header.py:1818(_set_slice)\n",
      "       24    0.000    0.000    0.000    0.000 header.py:122(__contains__)\n",
      "       19    0.000    0.000    0.000    0.000 card.py:424(comment)\n",
      "       12    0.000    0.000    0.000    0.000 core.py:865(get_err_str)\n",
      "       39    0.000    0.000    0.000    0.000 hdulist.py:687(_positive_index_of)\n",
      "        3    0.000    0.000    0.000    0.000 enum.py:552(__str__)\n",
      "      129    0.000    0.000    0.000    0.000 {method 'upper' of 'str' objects}\n",
      "        1    0.000    0.000   30.229   30.229 {built-in method builtins.exec}\n",
      "       49    0.000    0.000    0.000    0.000 card.py:507(is_blank)\n",
      "        6    0.000    0.000    0.000    0.000 fromnumeric.py:1987(all)\n",
      "       24    0.000    0.000    0.000    0.000 inspect.py:2537(__init__)\n",
      "       65    0.000    0.000    0.000    0.000 {method 'endswith' of 'str' objects}\n",
      "       12    0.000    0.000    0.000    0.000 __init__.py:33(get_format)\n",
      "       63    0.000    0.000    0.000    0.000 {method 'lower' of 'str' objects}\n",
      "        7    0.000    0.000    0.000    0.000 card.py:895(_format_value)\n",
      "       34    0.000    0.000    0.002    0.000 quantity.py:941(__rmul__)\n",
      "       46    0.000    0.000    0.000    0.000 {method 'items' of 'mappingproxy' objects}\n",
      "        3    0.000    0.000   20.393    6.798 decorators.py:873(propagate_fresnel)\n",
      "        6    0.000    0.000    0.000    0.000 optics.py:64(__init__)\n",
      "       12    0.000    0.000    0.000    0.000 core.py:602(to_string)\n",
      "        6    0.000    0.000    0.000    0.000 core.py:833(_apply_equivalencies)\n",
      "       60    0.000    0.000    0.000    0.000 inspect.py:2456(annotation)\n",
      "       22    0.000    0.000    0.003    0.000 header.py:1914(_add_commentary)\n",
      "        1    0.000    0.000    0.000    0.000 base.py:136(__new__)\n",
      "       14    0.000    0.000    0.000    0.000 card.py:271(value)\n",
      "       12    0.000    0.000    0.000    0.000 physical.py:48(get_physical_type)\n",
      "        2    0.000    0.000    0.000    0.000 {built-in method posix.stat}\n",
      "       55    0.000    0.000    0.000    0.000 header.py:321(_modified)\n",
      "        2    0.000    0.000    0.000    0.000 optics.py:89(get_opd)\n",
      "        7    0.000    0.000    0.000    0.000 header.py:1704(_relativeinsert)\n",
      "       20    0.000    0.000    0.000    0.000 quantity_helper.py:65(<lambda>)\n",
      "        8    0.000    0.000    0.000    0.000 poppy_core.py:610(shape)\n",
      "       21    0.000    0.000    0.000    0.000 cache.py:93(is_enabled)\n",
      "       76    0.000    0.000    0.000    0.000 core.py:1462(is_unity)\n",
      "        6    0.000    0.000    0.100    0.017 _methods.py:25(_amax)\n",
      "        7    0.000    0.000    0.000    0.000 context.py:40(cpu_count)\n",
      "       24    0.000    0.000    0.000    0.000 {method 'pop' of 'list' objects}\n",
      "        4    0.000    0.000    0.000    0.000 quantity.py:1023(quantity_iter)\n",
      "       39    0.000    0.000    0.000    0.000 util.py:779(_is_int)\n",
      "       75    0.000    0.000    0.000    0.000 core.py:595(powers)\n",
      "        2    0.000    0.000    7.882    3.941 decorators.py:873(_propagate_ptp)\n",
      "       22    0.000    0.000    0.003    0.000 header.py:1537(add_history)\n",
      "        2    0.000    0.000    0.000    0.000 header.py:80(__init__)\n",
      "      124    0.000    0.000    0.000    0.000 {method 'rstrip' of 'str' objects}\n",
      "       52    0.000    0.000    0.000    0.000 {method 'startswith' of 'str' objects}\n",
      "        9    0.000    0.000    0.000    0.000 fresnel.py:480(pixelscale)\n",
      "        7    0.000    0.000    0.000    0.000 header.py:1788(_useblanks)\n",
      "        2    0.000    0.000    0.001    0.000 image.py:248(data)\n",
      "       69    0.000    0.000    0.000    0.000 core.py:588(bases)\n",
      "       18    0.000    0.000    0.000    0.000 encoder.py:333(_iterencode_dict)\n",
      "        5    0.000    0.000    0.000    0.000 os.py:664(__getitem__)\n",
      "        2    0.000    0.000    6.844    3.422 decorators.py:873(_propagate_stw)\n",
      "        1    0.000    0.000    0.068    0.068 optics.py:401(get_transmission)\n",
      "        4    0.000    0.000    0.016    0.004 {method 'sum' of 'numpy.ndarray' objects}\n",
      "       46    0.000    0.000    0.000    0.000 {method 'pop' of 'dict' objects}\n",
      "       13    0.000    0.000    0.000    0.000 header.py:818(get)\n",
      "        7    0.000    0.000    0.000    0.000 card.py:494(image)\n",
      "        7    0.000    0.000    0.000    0.000 card.py:883(_format_keyword)\n",
      "        1    0.000    0.000    0.102    0.102 poppy_core.py:250(get_unpadded)\n",
      "        2    0.000    0.000    0.000    0.000 quantity.py:932(__imul__)\n",
      "        6    0.000    0.000    0.000    0.000 core.py:533(__repr__)\n",
      "      5/4    0.000    0.000    0.000    0.000 core.py:1959(decompose)\n",
      "        2    0.000    0.000    0.071    0.035 numeric.py:148(ones)\n",
      "        6    0.000    0.000    0.000    0.000 {method 'all' of 'numpy.ndarray' objects}\n",
      "        2    0.000    0.000    0.001    0.000 decorators.py:744(__set__)\n",
      "        3    0.000    0.000    0.000    0.000 posixpath.py:73(join)\n",
      "        2    0.000    0.000    0.000    0.000 posixpath.py:329(normpath)\n",
      "        1    0.000    0.000    0.000    0.000 base.py:153(__init__)\n",
      "        6    0.000    0.000    0.000    0.000 quantity_helper.py:83(<lambda>)\n",
      "        9    0.000    0.000    0.000    0.000 {built-in method numpy.core.multiarray.result_type}\n",
      "        1    0.000    0.000   30.224   30.224 decorators.py:873(calc_psf)\n",
      "        7    0.000    0.000    0.000    0.000 {built-in method pyfftw.pyfftw.is_n_byte_aligned}\n",
      "        4    0.000    0.000    0.000    0.000 header.py:2041(__getitem__)\n",
      "       37    0.000    0.000    0.000    0.000 image.py:215(header)\n",
      "        2    0.000    0.000    0.000    0.000 header.py:746(clear)\n",
      "        6    0.000    0.000    0.000    0.000 numeric.py:484(asanyarray)\n",
      "        1    0.000    0.000    0.000    0.000 __init__.py:120(dump)\n",
      "        1    0.000    0.000    0.000    0.000 hdulist.py:175(__init__)\n",
      "       21    0.000    0.000    0.000    0.000 header.py:115(__len__)\n",
      "        1    0.000    0.000    0.000    0.000 encoder.py:204(iterencode)\n",
      "       21    0.000    0.000    0.000    0.000 {method 'insert' of 'list' objects}\n",
      "        1    0.000    0.000   30.204   30.204 decorators.py:873(propagate_mono)\n",
      "        3    0.000    0.000    0.004    0.001 fresnel.py:97(__init__)\n",
      "        6    0.000    0.000    0.000    0.000 core.py:2023(__repr__)\n",
      "        1    0.000    0.000    0.000    0.000 paths.py:92(get_config_dir)\n",
      "        6    0.000    0.000    0.000    0.000 _methods.py:40(_all)\n",
      "        1    0.000    0.000    0.003    0.003 decorators.py:873(__init__)\n",
      "        1    0.000    0.000    3.608    3.608 decorators.py:873(_propagate_wts)\n",
      "        1    0.000    0.000    0.156    0.156 optics.py:356(get_coordinates)\n",
      "        5    0.000    0.000    0.000    0.000 fresnel.py:488(pixelscale)\n",
      "        3    0.000    0.000    0.000    0.000 fresnel.py:142(__str__)\n",
      "        7    0.000    0.000    0.000    0.000 header.py:1718(get_insertion_idx)\n",
      "        1    0.000    0.000    0.002    0.002 image.py:967(__init__)\n",
      "        2    0.000    0.000    0.000    0.000 base.py:493(_update_uint_scale_keywords)\n",
      "        1    0.000    0.000    0.000    0.000 paths.py:285(_find_or_create_astropy_dir)\n",
      "       18    0.000    0.000    0.000    0.000 encoder.py:412(_iterencode)\n",
      "       42    0.000    0.000    0.000    0.000 {method 'values' of 'dict' objects}\n",
      "       17    0.000    0.000    0.000    0.000 {method 'write' of '_io.TextIOWrapper' objects}\n",
      "        1    0.000    0.000    0.217    0.217 decorators.py:873(input_wavefront)\n",
      "       14    0.000    0.000    0.000    0.000 {method 'get_input_array' of 'pyfftw.pyfftw.FFTW' objects}\n",
      "        4    0.000    0.000    0.000    0.000 header.py:1986(__getitem__)\n",
      "        2    0.000    0.000    0.001    0.000 image.py:1030(update_header)\n",
      "        4    0.000    0.000    0.000    0.000 base.py:237(_data_loaded)\n",
      "       24    0.000    0.000    0.000    0.000 core.py:275(__enter__)\n",
      "        4    0.000    0.000    0.016    0.004 _methods.py:31(_sum)\n",
      "        1    0.000    0.000    0.000    0.000 {method 'round' of 'numpy.ndarray' objects}\n",
      "        8    0.000    0.000    0.000    0.000 {built-in method _json.encode_basestring_ascii}\n",
      "        1    0.000    0.000    0.000    0.000 utils.py:1659(fftw_load_wisdom)\n",
      "        1    0.000    0.000    0.000    0.000 hdulist.py:787(update_extend)\n"
     ]
    },
    {
     "name": "stdout",
     "output_type": "stream",
     "text": [
      "        4    0.000    0.000    0.000    0.000 base.py:241(_has_data)\n",
      "        3    0.000    0.000    0.000    0.000 quantity.py:1069(__len__)\n",
      "        2    0.000    0.000    0.000    0.000 paths.py:20(_find_home)\n",
      "        4    0.000    0.000    0.000    0.000 __init__.py:1296(info)\n",
      "        5    0.000    0.000    0.000    0.000 os.py:740(encode)\n",
      "        8    0.000    0.000    0.000    0.000 {method 'decode' of 'bytes' objects}\n",
      "       39    0.000    0.000    0.000    0.000 {function HDUList.__getitem__ at 0x7f9c6efe78c8}\n",
      "        2    0.000    0.000    0.000    0.000 image.py:206(shape)\n",
      "        4    0.000    0.000    0.000    0.000 header.py:287(comments)\n",
      "        7    0.000    0.000    0.000    0.000 card.py:202(__str__)\n",
      "        4    0.000    0.000    0.000    0.000 os.py:744(decode)\n",
      "        2    0.000    0.000    0.000    0.000 posixpath.py:62(isabs)\n",
      "        6    0.000    0.000    0.000    0.000 {method 'index' of 'list' objects}\n",
      "        5    0.000    0.000    0.000    0.000 {method 'encode' of 'str' objects}\n",
      "        7    0.000    0.000    0.000    0.000 {built-in method builtins.issubclass}\n",
      "        1    0.000    0.000    0.000    0.000 base.py:876(__init__)\n",
      "        1    0.000    0.000    0.000    0.000 header.py:305(_modified)\n",
      "        1    0.000    0.000    0.000    0.000 fromnumeric.py:2825(round_)\n",
      "       13    0.000    0.000    0.000    0.000 decorators.py:732(__get__)\n",
      "        2    0.000    0.000    0.000    0.000 posixpath.py:367(abspath)\n",
      "        1    0.000    0.000    0.000    0.000 genericpath.py:39(isdir)\n",
      "        1    0.000    0.000    0.000    0.000 _bootlocale.py:23(getpreferredencoding)\n",
      "        4    0.000    0.000    0.000    0.000 {method 'find' of 'str' objects}\n",
      "        1    0.000    0.000    0.000    0.000 {built-in method _locale.nl_langinfo}\n",
      "        1    0.000    0.000    0.000    0.000 accel_math.py:65(_complex)\n",
      "        1    0.000    0.000    0.000    0.000 hdulist.py:245(__len__)\n",
      "        3    0.000    0.000    0.000    0.000 header.py:313(<genexpr>)\n",
      "        2    0.000    0.000    0.000    0.000 quantity.py:1016(__iter__)\n",
      "        1    0.000    0.000    0.000    0.000 encoder.py:259(_make_iterencode)\n",
      "        1    0.000    0.000    0.000    0.000 genericpath.py:16(exists)\n",
      "        1    0.000    0.000    0.000    0.000 _collections_abc.py:657(get)\n",
      "        7    0.000    0.000    0.000    0.000 {method 'strip' of 'str' objects}\n",
      "        2    0.000    0.000    0.000    0.000 {built-in method time.time}\n",
      "        4    0.000    0.000    0.000    0.000 header.py:1956(__init__)\n",
      "        5    0.000    0.000    0.000    0.000 quantity.py:824(isscalar)\n",
      "        2    0.000    0.000    0.000    0.000 quantity_helper.py:29(<lambda>)\n",
      "        2    0.000    0.000    0.000    0.000 paths.py:38(<lambda>)\n",
      "        5    0.000    0.000    0.000    0.000 posixpath.py:39(_get_sep)\n",
      "        1    0.000    0.000    0.000    0.000 codecs.py:185(__init__)\n",
      "        2    0.000    0.000    0.000    0.000 {built-in method builtins.round}\n",
      "        1    0.000    0.000    0.000    0.000 image.py:571(_verify_blank)\n",
      "        1    0.000    0.000    0.000    0.000 base.py:56(_hdu_class_from_header)\n",
      "        4    0.000    0.000    0.000    0.000 card.py:411(comment)\n",
      "        2    0.000    0.000    0.000    0.000 util.py:775(_is_pseudo_unsigned)\n",
      "        1    0.000    0.000    0.000    0.000 {method 'disable' of '_lsprof.Profiler' objects}\n",
      "        2    0.000    0.000    0.000    0.000 _collections_abc.py:664(__contains__)\n",
      "        1    0.000    0.000    0.000    0.000 {built-in method __new__ of type object at 0x7f9ca8868ce0}\n",
      "        9    0.000    0.000    0.000    0.000 {built-in method posix.fspath}\n",
      "        1    0.000    0.000    0.000    0.000 fresnel.py:502(fov)\n",
      "        1    0.000    0.000    0.000    0.000 hdulist.py:1102(_read_next_hdu)\n",
      "        1    0.000    0.000    0.000    0.000 image.py:113(<listcomp>)\n",
      "        3    0.000    0.000    0.000    0.000 quantity_helper.py:55(<lambda>)\n",
      "        1    0.000    0.000    0.000    0.000 {method 'reverse' of 'list' objects}\n",
      "        1    0.000    0.000    0.000    0.000 {built-in method builtins.id}\n",
      "        1    0.000    0.000    0.000    0.000 {built-in method _stat.S_ISDIR}\n",
      "\n",
      "\n"
     ]
    },
    {
     "data": {
      "text/plain": [
       "<pstats.Stats at 0x7f9c40a6bf28>"
      ]
     },
     "execution_count": 21,
     "metadata": {},
     "output_type": "execute_result"
    }
   ],
   "source": [
    "psf_timing.print_stats()"
   ]
  },
  {
   "cell_type": "code",
   "execution_count": null,
   "metadata": {
    "collapsed": true
   },
   "outputs": [],
   "source": []
  },
  {
   "cell_type": "markdown",
   "metadata": {},
   "source": [
    "## Benchmark baseline optical system with acceleration"
   ]
  },
  {
   "cell_type": "code",
   "execution_count": 22,
   "metadata": {
    "collapsed": true
   },
   "outputs": [],
   "source": [
    "#from astropy.table import Table\n",
    "import pandas as pd\n",
    "pixlist = pd.Series([2**4,2**6,2**7,2**8,2**9,700,2**10,2**11])\n"
   ]
  },
  {
   "cell_type": "code",
   "execution_count": null,
   "metadata": {
    "collapsed": true
   },
   "outputs": [],
   "source": [
    "scenarios=[[False,False,False],\n",
    "          [False,False,True],\n",
    "          [False,True,True],\n",
    "          [True,True,True],\n",
    "          ]"
   ]
  },
  {
   "cell_type": "code",
   "execution_count": null,
   "metadata": {
    "scrolled": false
   },
   "outputs": [
    {
     "name": "stdout",
     "output_type": "stream",
     "text": [
      "[False, False, False]\n",
      "1.13 s ± 1.28 ms per loop (mean ± std. dev. of 7 runs, 1 loop each)\n",
      "False False False\n",
      "32.7 ms ± 88.5 µs per loop (mean ± std. dev. of 7 runs, 10 loops each)\n",
      "92.3 ms ± 76.5 µs per loop (mean ± std. dev. of 7 runs, 10 loops each)\n",
      "319 ms ± 6.52 ms per loop (mean ± std. dev. of 7 runs, 1 loop each)\n",
      "1.32 s ± 2.26 ms per loop (mean ± std. dev. of 7 runs, 1 loop each)\n",
      "9.7 s ± 37.4 ms per loop (mean ± std. dev. of 7 runs, 1 loop each)\n",
      "18.4 s ± 19.8 ms per loop (mean ± std. dev. of 7 runs, 1 loop each)\n"
     ]
    }
   ],
   "source": [
    "timings={}\n",
    "import importlib\n",
    "logger.setLevel(logging.WARN)\n",
    "\n",
    "\n",
    "for combo in scenarios:\n",
    "    df = pd.DataFrame(np.zeros([pixlist.size,4]), index=pixlist, columns=[\"avg\",\n",
    "                                                                          \"std\",\n",
    "                                                                         \"avg_fraun\",\n",
    "                                                                         \"std_fraun\",])\n",
    "    print(combo)\n",
    "    poppy.accel_math._CUDA_AVAILABLE  = combo[0]\n",
    "    poppy.accel_math._USE_CUDA= combo[0]\n",
    "    poppy.accel_math._NUMEXPR_AVAILABLE  = combo[1]\n",
    "    poppy.accel_math._USE_NUMEXPR=combo[1]\n",
    "    poppy.accel_math._FFTW_AVAILABLE= combo[2]\n",
    "    #reload libraries to make sure variables are set.\n",
    "    importlib.reload(poppy.fresnel)\n",
    "    importlib.reload(poppy.optics)\n",
    "    importlib.reload(poppy)\n",
    "    time_fraun=  %timeit -o osys_fraun.calc_psf(wavelen,display_intermediates=False)\n",
    "\n",
    "\n",
    "    print(poppy.accel_math._USE_CUDA,poppy.accel_math._USE_CUDA,poppy.accel_math._FFTW_AVAILABLE )\n",
    "    for i,npix in enumerate(pixlist):\n",
    "        test_optsys=optsys(npix=npix,ratio=0.25)\n",
    "        #run one test case so FFTW wisdom is cached.\n",
    "        t1=test_optsys.calcPSF(wavelength=wavelen, display_intermediates=False, return_intermediates=False)\n",
    "        #run timed test\n",
    "        time = %timeit -o test_optsys.calcPSF(wavelength=wavelen, display_intermediates=False, return_intermediates=False)\n",
    "\n",
    "        df.iloc[i][\"std\"] = time.stdev\n",
    "        df.iloc[i][\"avg\"] = time.average\n",
    "        df.iloc[i][\"std_fraun\"] = time_fraun.stdev\n",
    "        df.iloc[i][\"avg_fraun\"] = time_fraun.average\n",
    "    outname='cuda'+str(poppy.accel_math._USE_CUDA)+'NumExpr'+str(poppy.accel_math._USE_NUMEXPR)+'FFT'+str(poppy.accel_math._FFTW_AVAILABLE)+'.csv'\n",
    "    df.to_csv(outname,float_format=\"%3.3e\")\n",
    "    print(outname)\n",
    "    psf_timing = %prun -r  -s  tottime test_optsys.calcPSF(display_intermediates=False, return_intermediates=False)\n",
    "    psf_timing.print_stats()\n",
    "    "
   ]
  },
  {
   "cell_type": "code",
   "execution_count": null,
   "metadata": {},
   "outputs": [],
   "source": [
    "time.all_runs"
   ]
  },
  {
   "cell_type": "code",
   "execution_count": null,
   "metadata": {},
   "outputs": [],
   "source": [
    "outname='cuda'+str(_USE_CUDA)+'NumExpr'+str(_USE_NUMEXPR)+'FFT'+str(poppy.conf.use_fftw)+'.csv'\n",
    "df.to_csv(outname,float_format=\"%3.3e\")\n",
    "print(outname)"
   ]
  },
  {
   "cell_type": "code",
   "execution_count": null,
   "metadata": {},
   "outputs": [],
   "source": [
    "plt.figure(dpi=400, figsize=[7,5])\n",
    "ax=plt.subplot(111)\n",
    "\n",
    "\n",
    "y=pd.read_csv('cuda'+str(False)+'NumExpr'+str(False)+'FFT'+str(False)+'.csv',index_col=0)\n",
    "#y[\"avg\"].plot.bar(yerr=y[\"std\"],\n",
    "#                       xticks=pixlist,label=\"NumPy\",color=\"orange\",linestyle=\"--\",\n",
    "#                   alpha=.7,ax=ax)\n",
    "\n",
    "\n",
    "y_FFTW=pd.read_csv('cuda'+str(False)+'NumExpr'+str(False)+'FFT'+str(True)+'.csv',index_col=0)\n",
    "\n",
    "#ax=y_cuda_numexpr[\"avg\"].plot.bar(yerr=y_cuda_numexpr[\"std\"],label=\"NumExpr+CUDA\")\n",
    "ax.errorbar(pixlist,y_FFTW[\"avg\"]/y[\"avg\"],\n",
    "            yerr=y_FFTW[\"avg\"]/y[\"avg\"]*np.sqrt((y_FFTW[\"std\"]/y_FFTW[\"avg\"])**2+(y[\"std\"]/y[\"avg\"])**2),\n",
    "            label=\"FFTW\",linestyle=\"--\" )\n",
    "\n",
    "y_numexpr=pd.read_csv('cuda'+str(False)+'NumExpr'+str(True)+'FFT'+str(True)+'.csv',index_col=0)\n",
    "#y_cuda[\"avg\"].plot.bar(yerr=y_cuda[\"std\"],\n",
    "#                       xticks=pixlist,label=\"CUDA\",color=\"orange\",alpha=.7,ax=ax)\n",
    "\n",
    "ax.errorbar(pixlist,y_numexpr[\"avg\"]/y[\"avg\"],\n",
    "            yerr=y_numexpr[\"avg\"]/y[\"avg\"]*np.sqrt((y_numexpr[\"std\"]/y_numexpr[\"avg\"])**2+(y[\"std\"]/y[\"avg\"])**2),\n",
    "            label=\"NumExpr+FFTW\",linestyle=\"-.\" )\n",
    "\n",
    "y_all=pd.read_csv('cuda'+str(True)+'NumExpr'+str(True)+'FFT'+str(True)+'.csv',index_col=0)\n",
    "#y_cuda[\"avg\"].plot.bar(yerr=y_cuda[\"std\"],\n",
    "#                       xticks=pixlist,label=\"CUDA\",color=\"orange\",alpha=.7,ax=ax)\n",
    "\n",
    "ax.errorbar(pixlist,y_all[\"avg\"]/y[\"avg\"],\n",
    "            yerr=y_all[\"avg\"]/y[\"avg\"]*np.sqrt((y_all[\"std\"]/y_all[\"avg\"])**2+(y[\"std\"]/y[\"avg\"])**2),\n",
    "\n",
    "            label=\"Numexpr+CUDA\",  )\n",
    "\n",
    "\n",
    "\n",
    "ax.plot([0,np.max(pixlist)],[1,1],linewidth=2,alpha=.5,color=\"black\")\n",
    "ax.text(256,1.02,\"NumPy\",color=\"gray\")\n",
    "#plt.xscale(\"log\")\n",
    "ax.set_xticks([pixlist[0]]+list(pixlist[4:]))\n",
    "#ax.set_xticks(range(len(pixlist)))\n",
    "ax.set_xticklabels(np.int_(ax.get_xticks()/test_optsys.beam_ratio))\n",
    "ax.set_yticks(np.arange(0,1.1,.1))\n",
    "ax.set_ylabel(\"Fractional Run Time\")\n",
    "plt.legend()\n",
    "plt.grid()\n",
    "plt.xlabel(\"Array Dimensions [pix]\")\n",
    "plt.ylim([0,1.1])\n",
    "#plt.yscale(\"log\")\n",
    "plt.savefig(\"benchmarks%icores.pdf\"%(ne.ncores),bbox_inches=\"tight\")\n"
   ]
  },
  {
   "cell_type": "code",
   "execution_count": null,
   "metadata": {},
   "outputs": [],
   "source": [
    "plt.figure(dpi=400, figsize=[7,5])\n",
    "ax=plt.subplot(111)\n",
    "\n",
    "\n",
    "y=pd.read_csv('cuda'+str(False)+'NumExpr'+str(False)+'FFT'+str(False)+'.csv',index_col=0)\n",
    "#y[\"avg\"].plot.bar(yerr=y[\"std\"],\n",
    "#                       xticks=pixlist,label=\"NumPy\",color=\"orange\",linestyle=\"--\",\n",
    "#                   alpha=.7,ax=ax)\n",
    "\n",
    "\n",
    "y_FFTW=pd.read_csv('cuda'+str(False)+'NumExpr'+str(False)+'FFT'+str(True)+'.csv',index_col=0)\n",
    "\n",
    "#ax=y_cuda_numexpr[\"avg\"].plot.bar(yerr=y_cuda_numexpr[\"std\"],label=\"NumExpr+CUDA\")\n",
    "ax.errorbar(pixlist,y_FFTW[\"avg\"]/y[\"avg\"],\n",
    "            yerr=y_FFTW[\"avg\"]/y[\"avg\"]*np.sqrt((y_FFTW[\"std\"]/y_FFTW[\"avg\"])**2+(y[\"std\"]/y[\"avg\"])**2),\n",
    "            label=\"FFTW\",linestyle=\"--\" )\n",
    "\n",
    "y_numexpr=pd.read_csv('cuda'+str(False)+'NumExpr'+str(True)+'FFT'+str(True)+'.csv',index_col=0)\n",
    "#y_cuda[\"avg\"].plot.bar(yerr=y_cuda[\"std\"],\n",
    "#                       xticks=pixlist,label=\"CUDA\",color=\"orange\",alpha=.7,ax=ax)\n",
    "\n",
    "ax.errorbar(pixlist,y_numexpr[\"avg\"]/y[\"avg\"],\n",
    "            yerr=y_numexpr[\"avg\"]/y[\"avg\"]*np.sqrt((y_numexpr[\"std\"]/y_numexpr[\"avg\"])**2+(y[\"std\"]/y[\"avg\"])**2),\n",
    "            label=\"NumExpr+FFTW\",linestyle=\"-.\" )\n",
    "\n",
    "y_all=pd.read_csv('cuda'+str(True)+'NumExpr'+str(True)+'FFT'+str(True)+'.csv',index_col=0)\n",
    "#y_cuda[\"avg\"].plot.bar(yerr=y_cuda[\"std\"],\n",
    "#                       xticks=pixlist,label=\"CUDA\",color=\"orange\",alpha=.7,ax=ax)\n",
    "\n",
    "ax.errorbar(pixlist,y_all[\"avg\"]/y[\"avg\"],\n",
    "            yerr=y_all[\"avg\"]/y[\"avg\"]*np.sqrt((y_all[\"std\"]/y_all[\"avg\"])**2+(y[\"std\"]/y[\"avg\"])**2),\n",
    "\n",
    "            label=\"Numexpr+CUDA\",  )\n",
    "\n",
    "\n",
    "\n",
    "ax.plot([0,np.max(pixlist)],[1,1],linewidth=2,alpha=.5,color=\"black\")\n",
    "ax.text(256,1.02,\"NumPy\",color=\"gray\")\n",
    "#plt.xscale(\"log\")\n",
    "ax.set_xticks([pixlist[0]]+list(pixlist[3:]))\n",
    "#ax.set_xticks(range(len(pixlist)))\n",
    "ax.set_xticklabels(np.int_(ax.get_xticks()/test_optsys.beam_ratio))\n",
    "ax.set_yticks(np.arange(0,1.1,.1))\n",
    "ax.set_ylabel(\"Fractional Run Time\")\n",
    "plt.legend()\n",
    "plt.grid()\n",
    "plt.xlabel(\"Array Dimensions [pix]\")\n",
    "plt.ylim([0,1.1])\n",
    "#plt.yscale(\"log\")\n",
    "plt.savefig(\"benchmarks%icores.pdf\"%(ne.ncores),bbox_inches=\"tight\")\n",
    "\n"
   ]
  },
  {
   "cell_type": "code",
   "execution_count": null,
   "metadata": {},
   "outputs": [],
   "source": [
    "plt.figure(figsize=[4,3])\n",
    "ax=plt.subplot(111)\n",
    "\n",
    "ticks=np.int_(pixlist*4)\n",
    "y=pd.read_csv('cuda'+str(False)+'NumExpr'+str(False)+'FFT'+str(False)+'.csv',index_col=0)\n",
    "y[\"avg\"].plot.bar(yerr=y[\"std\"],\n",
    "                       #ticks=ticks,\n",
    "                  label=\"NumPy\",color=\"orange\",linestyle=\"--\",\n",
    "                   alpha=.7,ax=ax)\n",
    "\n",
    "#ax.text(256,1.02,\"NumPy\",color=\"gray\")\n",
    "ax.set_ylabel(\"Run Time [sec]\")\n",
    "plt.legend()\n",
    "plt.minorticks_on()\n",
    "\n",
    "plt.grid(b=True, which='major', color='b', linestyle='-',alpha=.5)\n",
    "\n",
    "plt.grid(b=True, which='minor', color='r', linestyle='--',alpha=.5)\n",
    "plt.xlabel(\"Array Dimensions [pix]\")\n",
    "#plt.yscale(\"log\")\n",
    "plt.yscale(\"log\")\n",
    "ax.set_xticklabels(ticks)\n",
    "\n",
    "\n",
    "plt.savefig(\"NumPy_runtime%icores.pdf\"%(ne.ncores),bbox_inches=\"tight\")"
   ]
  },
  {
   "cell_type": "markdown",
   "metadata": {},
   "source": [
    "### where's the remaining bottleneck?\n",
    "\n",
    "NumExpr evaluations still dominate"
   ]
  },
  {
   "cell_type": "code",
   "execution_count": null,
   "metadata": {
    "collapsed": true
   },
   "outputs": [],
   "source": [
    "psf_timing = %prun -r  -s  tottime  optsys(npix=2048,ratio=0.25).calcPSF(display_intermediates=False, return_intermediates=False)\n",
    "psf_timing.print_stats()"
   ]
  },
  {
   "cell_type": "code",
   "execution_count": null,
   "metadata": {
    "collapsed": true
   },
   "outputs": [],
   "source": [
    "psf_timing = %prun -r  -s  tottime  optsys(npix=512,ratio=0.25).calcPSF(display_intermediates=False, return_intermediates=False)\n",
    "psf_timing.print_stats()"
   ]
  },
  {
   "cell_type": "code",
   "execution_count": null,
   "metadata": {
    "collapsed": true
   },
   "outputs": [],
   "source": []
  },
  {
   "cell_type": "markdown",
   "metadata": {
    "collapsed": true
   },
   "source": [
    "## Talbot Effect Illustration"
   ]
  },
  {
   "cell_type": "code",
   "execution_count": null,
   "metadata": {
    "collapsed": true
   },
   "outputs": [],
   "source": [
    "import poppy\n",
    "import astropy.units as u\n",
    "sineWFE=poppy.wfe.SineWaveWFE(spatialfreq=500,amplitude=5e-9)\n",
    "wf_f = poppy.fresnel.FresnelWavefront(beam_radius=2*u.cm,wavelength=0.5*u.um,npix=256,oversample=8)\n",
    "wf_f*=sineWFE\n",
    "Z_t=2*((1/sineWFE.sine_spatial_freq))**2/wf_f.wavelength\n",
    "       \n",
    "       \n",
    "wf_f *= poppy.CircularAperture(radius=wf_f.diam/2)\n",
    "wf_f.propagate_fresnel(Z_t/10000.)\n",
    "\n",
    "\n",
    "plt.figure(figsize=[8,4])\n",
    "ax=wf_f.display(what=\"both\",imagecrop=0.05,colorbar=True)\n",
    "plt.suptitle(\"d=%.2f$Z_T$\"%(wf_f.z/Z_t).decompose())\n",
    "\n",
    "\n",
    "\n",
    "max_phase=6.28*(sineWFE.sine_amplitude/wf_f.wavelength).decompose()\n",
    "amp_min=0.95\n",
    "ax[0].images[0].set_clim(amp_min,1)\n",
    "ax[1].images[0].set_clim(-max_phase,max_phase)\n",
    "ax[1].images[0].set_cmap(plt.cm.magma)\n",
    "\n",
    "plt.tight_layout()\n",
    "plt.savefig(\"zt0.pdf\",bbox_inches=\"tight\")\n",
    "\n",
    "\n",
    "\n",
    "plt.figure(figsize=[8,4])\n",
    "\n",
    "wf_f.propagate_fresnel(Z_t*.05-wf_f.z)\n",
    "ax=wf_f.display(what=\"both\",imagecrop=0.05,colorbar=True)\n",
    "ax[0].images[0].set_clim(amp_min,1)\n",
    "\n",
    "ax[1].images[0].set_clim(-max_phase,max_phase)\n",
    "ax[1].images[0].set_cmap(plt.cm.magma)\n",
    "plt.suptitle(\"d=%.2f$Z_T$\"%(wf_f.z/Z_t).decompose())\n",
    "\n",
    "plt.tight_layout()\n",
    "plt.savefig(\"zt1.pdf\",bbox_inches=\"tight\")\n",
    "\n",
    "\n",
    "wf_f.propagate_fresnel(Z_t*.25-wf_f.z)\n",
    "plt.figure(figsize=[8,4])\n",
    "ax=wf_f.display(what=\"both\",imagecrop=0.05,colorbar=True)\n",
    "ax[0].images[0].set_clim(amp_min,1)\n",
    "\n",
    "ax[1].images[0].set_clim(-max_phase,max_phase)\n",
    "ax[1].images[0].set_cmap(plt.cm.magma)\n",
    "plt.suptitle([(wf_f.z/Z_t).decompose(),np.std(wf_f.amplitude[wf_f.amplitude>1e-9])])\n",
    "plt.tight_layout()\n",
    "\n",
    "\n",
    "plt.suptitle(\"d=%.2f$Z_T$\"%(wf_f.z/Z_t).decompose())\n",
    "\n",
    "\n",
    "\n",
    "plt.tight_layout()\n",
    "plt.savefig(\"zt2.pdf\",bbox_inches=\"tight\")\n",
    "print(Z_t.decompose())"
   ]
  },
  {
   "cell_type": "code",
   "execution_count": null,
   "metadata": {
    "collapsed": true
   },
   "outputs": [],
   "source": []
  },
  {
   "cell_type": "code",
   "execution_count": null,
   "metadata": {
    "collapsed": true
   },
   "outputs": [],
   "source": []
  },
  {
   "cell_type": "code",
   "execution_count": null,
   "metadata": {
    "collapsed": true
   },
   "outputs": [],
   "source": [
    "\n"
   ]
  },
  {
   "cell_type": "markdown",
   "metadata": {},
   "source": [
    "# Old:\n",
    "\n",
    "commit:4d86854bc2e709d7415ac8e9075098c7f9b4dc16\n",
    "\n",
    "```%timeit  wfirst_optsys.calcPSF(wavelength=wavelen, display_intermediates=False, return_intermediates=False)```\n",
    "\n",
    "```\n",
    "5.8 s ± 58.5 ms per loop (mean ± std. dev. of 7 runs, 1 loop each)\n",
    "In [16]:\n",
    "```\n",
    "\n",
    "commit:8049b9257a2239944f3ca5358462580d4a47804b\n",
    "```\n",
    "5.66 s ± 28.1 ms per loop (mean ± std. dev. of 7 runs, 1 loop each)\n",
    "In [8]:\n",
    "```getphasor percall: 0.353\n",
    "\n",
    "\n"
   ]
  },
  {
   "cell_type": "code",
   "execution_count": null,
   "metadata": {
    "collapsed": true
   },
   "outputs": [],
   "source": [
    "%%prun\n",
    "poppy.conf.use_cuda=False\n",
    "psf = optsys().calcPSF(wavelength=wavelen, display_intermediates=False, return_intermediates=False)\n"
   ]
  },
  {
   "cell_type": "code",
   "execution_count": null,
   "metadata": {
    "collapsed": true
   },
   "outputs": [],
   "source": [
    "poppy.display_psf(psf)\n"
   ]
  },
  {
   "cell_type": "code",
   "execution_count": null,
   "metadata": {
    "collapsed": true
   },
   "outputs": [],
   "source": [
    "#exit_wf = waves[-1]\n",
    "plt.imshow(np.log10(wf.intensity), cmap='gray', vmin=-6, vmax=0)\n",
    "plt.colorbar()"
   ]
  },
  {
   "cell_type": "markdown",
   "metadata": {},
   "source": [
    "## Old benchmarks:\n",
    "\n",
    "##  83e5e2d3be3240c2867a02f8e89c7b1802cb3a4e\n",
    "\n",
    "\n",
    "environment accelerate 83e5e2d3be3240c2867a02f8e89c7b1802cb3a4e:\n",
    "\n",
    "`ne.ncores,ne.nthreads,ne.show_config()`\n",
    "\n",
    "```mkl_info:\n",
    "    libraries = ['mkl_rt', 'pthread']\n",
    "    library_dirs = ['/home/edouglas/miniconda3/envs/anaconda/lib']\n",
    "    define_macros = [('SCIPY_MKL_H', None), ('HAVE_CBLAS', None)]\n",
    "    include_dirs = ['/home/edouglas/miniconda3/envs/anaconda/include']\n",
    "Out[29]:\n",
    "(8, 8, None)\n",
    "```\n",
    "\n",
    "### standard install with np.fft\n",
    "```\n",
    "1.58 s ± 36.1 ms per loop (mean ± std. dev. of 7 runs, 1 loop each)\n",
    "32.2 s ± 710 ms per loop (mean ± std. dev. of 7 runs, 1 loop each)\n",
    "2min 8s ± 3.18 s per loop (mean ± std. dev. of 7 runs, 1 loop each)\n",
    "```\n",
    "### standard install with pyfftw:\n",
    "```\n",
    "1.21 s ± 32.1 ms per loop (mean ± std. dev. of 7 runs, 1 loop each)\n",
    "24 s ± 249 ms per loop (mean ± std. dev. of 7 runs, 1 loop each)\n",
    "1min 34s ± 791 ms per loop (mean ± std. dev. of 7 runs, 1 loop each)\n",
    "\n",
    "```\n",
    "### NumExpr but no cuda:\n",
    "\n",
    "\n",
    "```\n",
    "959 ms ± 18.3 ms per loop (mean ± std. dev. of 7 runs, 1 loop each)\n",
    "20.5 s ± 726 ms per loop (mean ± std. dev. of 7 runs, 1 loop each)\n",
    "1min 22s ± 465 ms per loop (mean ± std. dev. of 7 runs, 1 loop each)\n",
    "```\n",
    "\n",
    "### NumExpr +  cuda, 2x faster:\n",
    "```\n",
    "497 ms ± 15.8 ms per loop (mean ± std. dev. of 7 runs, 1 loop each)\n",
    "9.23 s ± 51.6 ms per loop (mean ± std. dev. of 7 runs, 1 loop each)\n",
    "40 s ± 387 ms per loop (mean ± std. dev. of 7 runs, 1 loop each)\n",
    "```"
   ]
  },
  {
   "cell_type": "code",
   "execution_count": null,
   "metadata": {
    "collapsed": true
   },
   "outputs": [],
   "source": [
    "exit_wf.n"
   ]
  },
  {
   "cell_type": "code",
   "execution_count": null,
   "metadata": {
    "collapsed": true
   },
   "outputs": [],
   "source": []
  },
  {
   "cell_type": "code",
   "execution_count": null,
   "metadata": {
    "collapsed": true
   },
   "outputs": [],
   "source": []
  },
  {
   "cell_type": "code",
   "execution_count": null,
   "metadata": {
    "collapsed": true
   },
   "outputs": [],
   "source": []
  },
  {
   "cell_type": "code",
   "execution_count": null,
   "metadata": {
    "collapsed": true
   },
   "outputs": [],
   "source": []
  }
 ],
 "metadata": {
  "anaconda-cloud": {},
  "kernelspec": {
   "display_name": "Python [conda env:poppyenv]",
   "language": "python",
   "name": "conda-env-poppyenv-py"
  },
  "language_info": {
   "codemirror_mode": {
    "name": "ipython",
    "version": 3
   },
   "file_extension": ".py",
   "mimetype": "text/x-python",
   "name": "python",
   "nbconvert_exporter": "python",
   "pygments_lexer": "ipython3",
   "version": "3.6.1"
  }
 },
 "nbformat": 4,
 "nbformat_minor": 1
}
