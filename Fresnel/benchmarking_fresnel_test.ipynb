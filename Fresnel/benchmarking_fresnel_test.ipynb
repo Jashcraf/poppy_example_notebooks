{
 "cells": [
  {
   "cell_type": "markdown",
   "metadata": {},
   "source": [
    "Import dependencies:"
   ]
  },
  {
   "cell_type": "code",
   "execution_count": null,
   "metadata": {
    "collapsed": true
   },
   "outputs": [],
   "source": [
    "import numpy as np\n",
    "import numexpr as ne\n",
    "\n",
    "\n",
    "import os\n",
    "\n",
    "import importlib\n",
    "import poppy\n",
    "importlib.reload(poppy)\n",
    "import matplotlib\n",
    "import matplotlib.pyplot as plt\n",
    "%matplotlib inline\n",
    "matplotlib.rcParams['image.origin'] = 'lower'\n",
    "matplotlib.rcParams['image.interpolation'] = 'nearest'\n",
    "matplotlib.rcParams['font.size'] = 9\n",
    "\n",
    "import astropy.io\n",
    "import astropy.units as u\n",
    "\n",
    "import scipy.interpolate\n",
    "import scipy.signal\n",
    "import scipy.optimize\n",
    "\n",
    "import logging\n",
    "logging.basicConfig(format='%(levelname)s:%(message)s', level=logging.WARN)\n",
    "\n",
    "\n",
    "\n",
    "%matplotlib inline\n"
   ]
  },
  {
   "cell_type": "code",
   "execution_count": null,
   "metadata": {
    "collapsed": true
   },
   "outputs": [],
   "source": [
    "#import accelerate # for earlier releases"
   ]
  },
  {
   "cell_type": "markdown",
   "metadata": {},
   "source": [
    "Print the this notebook's current git commit"
   ]
  },
  {
   "cell_type": "code",
   "execution_count": null,
   "metadata": {},
   "outputs": [],
   "source": [
    "%%bash\n",
    "git rev-parse HEAD\n"
   ]
  },
  {
   "cell_type": "code",
   "execution_count": null,
   "metadata": {
    "collapsed": true
   },
   "outputs": [],
   "source": []
  },
  {
   "cell_type": "code",
   "execution_count": null,
   "metadata": {},
   "outputs": [],
   "source": [
    "np.__config__.show()"
   ]
  },
  {
   "cell_type": "code",
   "execution_count": null,
   "metadata": {},
   "outputs": [],
   "source": [
    "ne.ncores,ne.nthreads,ne.show_config()"
   ]
  },
  {
   "cell_type": "code",
   "execution_count": null,
   "metadata": {},
   "outputs": [],
   "source": [
    "%%bash\n",
    "cat /proc/cpuinfo | grep 'model name' | uniq\n",
    " lscpu | egrep '^Thread|^Core|^Socket|^CPU\\('\n",
    "\n"
   ]
  },
  {
   "cell_type": "code",
   "execution_count": null,
   "metadata": {},
   "outputs": [],
   "source": [
    "%%bash\n",
    "nvidia-smi\n",
    "\n"
   ]
  },
  {
   "cell_type": "markdown",
   "metadata": {},
   "source": [
    "# 1. circular pupil"
   ]
  },
  {
   "cell_type": "code",
   "execution_count": null,
   "metadata": {},
   "outputs": [],
   "source": [
    "from  poppy.accel_math import  _USE_CUDA, _USE_NUMEXPR, _FFTW_AVAILABLE\n",
    "\n",
    "print(_USE_CUDA, _USE_NUMEXPR,_FFTW_AVAILABLE)\n",
    "print(\"current POPPY version: \"+str(poppy.__version__))\n"
   ]
  },
  {
   "cell_type": "code",
   "execution_count": null,
   "metadata": {},
   "outputs": [],
   "source": [
    "intermediate=  poppy.poppy_core.PlaneType.intermediate \n",
    "wavelen = 770e-9\n",
    "\n",
    "D_prim = 2.37 * u.m\n",
    "fr_pri = 7.8\n",
    "fl_pri = D_prim * fr_pri\n",
    "\n",
    "D_relay = 20 * u.mm\n",
    "fl_m2 = fl_pri * D_relay / D_prim\n",
    "fr_m3 = 20.\n",
    "fl_m3 = fr_m3 * D_relay\n",
    "\n",
    "def optsys(npix=1024,ratio=0.25):\n",
    "    optsys = poppy.FresnelOpticalSystem(pupil_diameter=D_prim,\n",
    "    \t\t\t\t\t\t npix=npix, beam_ratio=ratio)\n",
    "\n",
    "    m1 = poppy.QuadraticLens(fl_pri, name='Primary')\n",
    "    m2 = poppy.QuadraticLens(fl_m2, name='M2')\n",
    "    m3 = poppy.QuadraticLens(fl_m3, name='M3')\n",
    "    m4 = poppy.QuadraticLens(fl_m3, name='M4')\n",
    "\n",
    "    optsys.add_optic(poppy.CircularAperture(radius=D_prim.value/2))\n",
    "    optsys.add_optic(m1)\n",
    "    optsys.add_optic(m2, distance = fl_pri + fl_m2)\n",
    "    optsys.add_optic(m3, distance = fl_m2 + fl_m3)\n",
    "\n",
    "    optsys.add_optic(poppy.ScalarTransmission(planetype=intermediate,\n",
    "    name='focus'),\n",
    "    \t distance=fl_m3)\n",
    "    return optsys\n",
    "    \n",
    "optsys4096=optsys(npix=1024,ratio=0.25)\n",
    "psf = optsys4096.calcPSF(wavelength=wavelen, \n",
    "\t\t\t\t\t\tdisplay_intermediates=False, \n",
    "\t\t\t\t\t\treturn_intermediates=False)\n",
    "wfirst_optsys1024=sys(npix=256,ratio=0.25)\n",
    "wfirst_optsys8192=sys(npix=2048,ratio=0.25)\n",
    "\n",
    "\n"
   ]
  },
  {
   "cell_type": "code",
   "execution_count": null,
   "metadata": {
    "collapsed": true
   },
   "outputs": [],
   "source": [
    "\n",
    "\n"
   ]
  },
  {
   "cell_type": "code",
   "execution_count": null,
   "metadata": {},
   "outputs": [],
   "source": [
    "ne.ncores,ne.nthreads,ne.show_config()"
   ]
  },
  {
   "cell_type": "code",
   "execution_count": null,
   "metadata": {},
   "outputs": [],
   "source": [
    "psf_timing = %prun -r  -s  tottime wfirst_optsys4096.calcPSF(wavelength=wavelen, display_intermediates=False, return_intermediates=False)\n",
    "\n"
   ]
  },
  {
   "cell_type": "code",
   "execution_count": null,
   "metadata": {},
   "outputs": [],
   "source": [
    "psf_timing.print_stats()"
   ]
  },
  {
   "cell_type": "code",
   "execution_count": null,
   "metadata": {
    "collapsed": true
   },
   "outputs": [],
   "source": [
    "#from astropy.table import Table\n",
    "import pandas as pd\n",
    "pixlist = pd.Series([2**4,2**5,2**6,2**7,2**8,2**9,2**10])#,2**11])])\n",
    "\n"
   ]
  },
  {
   "cell_type": "code",
   "execution_count": null,
   "metadata": {
    "collapsed": true
   },
   "outputs": [],
   "source": [
    "scenarios=[[False,False,False],\n",
    "          [False,False,True],\n",
    "          [False,True,True],\n",
    "          [True,True,True],\n",
    "          ]"
   ]
  },
  {
   "cell_type": "code",
   "execution_count": null,
   "metadata": {
    "scrolled": true
   },
   "outputs": [],
   "source": [
    "timings={}\n",
    "import importlib\n",
    "\n",
    "for combo in scenarios:\n",
    "    df = pd.DataFrame(np.zeros([pixlist.size,2]), index=pixlist, columns=[\"avg\",\"std\"])\n",
    "    print(combo)\n",
    "    poppy.accel_math._USE_CUDA  = combo[0]\n",
    "    poppy.accel_math._USE_NUMEXPR  = combo[1]\n",
    "    poppy.conf.use_fftw = combo[2]\n",
    "    #reload libraries to make sure variables are set.\n",
    "    importlib.reload(poppy.fresnel)\n",
    "    importlib.reload(poppy.optics)\n",
    "    importlib.reload(poppy)\n",
    "\n",
    "    print(poppy.fresnel._USE_CUDA,poppy.fresnel._USE_CUDA,poppy.conf.use_fftw )\n",
    "    for i,npix in enumerate(pixlist):\n",
    "        test_optsys=optsys(npix=npix,ratio=0.25)\n",
    "        time = %timeit -o test_optsys.calcPSF(wavelength=wavelen, display_intermediates=False, return_intermediates=False)\n",
    "    \n",
    "        df.iloc[i][\"std\"] = time.stdev\n",
    "        df.iloc[i][\"avg\"] = time.average\n",
    "    outname='cuda'+str(poppy.fresnel._USE_CUDA)+'NumExpr'+str(poppy.fresnel._USE_NUMEXPR)+'FFT'+str(poppy.conf.use_fftw)+'.csv'\n",
    "    df.to_csv(outname,float_format=\"%3.3e\")\n",
    "    print(outname)\n",
    "    psf_timing = %prun -r  -s  tottime wfirst_optsys.calcPSF(display_intermediates=False, return_intermediates=False)\n",
    "    psf_timing.print_stats()\n",
    "\n"
   ]
  },
  {
   "cell_type": "code",
   "execution_count": null,
   "metadata": {
    "collapsed": true
   },
   "outputs": [],
   "source": []
  },
  {
   "cell_type": "code",
   "execution_count": null,
   "metadata": {},
   "outputs": [],
   "source": [
    "outname='cuda'+str(_USE_CUDA)+'NumExpr'+str(_USE_NUMEXPR)+'FFT'+str(poppy.conf.use_fftw)+'.csv'\n",
    "df.to_csv(outname,float_format=\"%3.3e\")\n",
    "print(outname)"
   ]
  },
  {
   "cell_type": "code",
   "execution_count": null,
   "metadata": {},
   "outputs": [],
   "source": [
    "plt.figure(dpi=400)\n",
    "ax=plt.subplot(111)\n",
    "\n",
    "\n",
    "y=pd.read_csv('cuda'+str(False)+'NumExpr'+str(False)+'FFT'+str(False)+'.csv',index_col=0)\n",
    "#y[\"avg\"].plot.bar(yerr=y[\"std\"],\n",
    "#                       xticks=pixlist,label=\"NumPy\",color=\"orange\",linestyle=\"--\",\n",
    "#                   alpha=.7,ax=ax)\n",
    "\n",
    "\n",
    "y_FFTW=pd.read_csv('cuda'+str(False)+'NumExpr'+str(False)+'FFT'+str(True)+'.csv',index_col=0)\n",
    "\n",
    "#ax=y_cuda_numexpr[\"avg\"].plot.bar(yerr=y_cuda_numexpr[\"std\"],label=\"NumExpr+CUDA\")\n",
    "ax.errorbar(pixlist,y_FFTW[\"avg\"]/y[\"avg\"],\n",
    "            yerr=y_FFTW[\"avg\"]/y[\"avg\"]*np.sqrt((y_FFTW[\"std\"]/y_FFTW[\"avg\"])**2+(y[\"std\"]/y[\"avg\"])**2),\n",
    "            label=\"FFTW\", )\n",
    "\n",
    "y_numexpr=pd.read_csv('cuda'+str(False)+'NumExpr'+str(True)+'FFT'+str(True)+'.csv',index_col=0)\n",
    "#y_cuda[\"avg\"].plot.bar(yerr=y_cuda[\"std\"],\n",
    "#                       xticks=pixlist,label=\"CUDA\",color=\"orange\",alpha=.7,ax=ax)\n",
    "\n",
    "ax.errorbar(pixlist,y_numexpr[\"avg\"]/y[\"avg\"],\n",
    "            yerr=y_numexpr[\"avg\"]/y[\"avg\"]*np.sqrt((y_numexpr[\"std\"]/y_numexpr[\"avg\"])**2+(y[\"std\"]/y[\"avg\"])**2),\n",
    "            label=\"NumExpr+FFTW\",)\n",
    "\n",
    "y_all=pd.read_csv('cuda'+str(True)+'NumExpr'+str(True)+'FFT'+str(True)+'.csv',index_col=0)\n",
    "#y_cuda[\"avg\"].plot.bar(yerr=y_cuda[\"std\"],\n",
    "#                       xticks=pixlist,label=\"CUDA\",color=\"orange\",alpha=.7,ax=ax)\n",
    "\n",
    "ax.errorbar(pixlist,y_all[\"avg\"]/y[\"avg\"],\n",
    "            yerr=y_all[\"avg\"]/y[\"avg\"]*np.sqrt((y_all[\"std\"]/y_all[\"avg\"])**2+(y[\"std\"]/y[\"avg\"])**2),\n",
    "\n",
    "            label=\"Numexpr+CUDA\",  )\n",
    "\n",
    "\n",
    "\n",
    "ax.plot([0,np.max(pixlist)],[1,1],linewidth=2,alpha=.5,color=\"black\")\n",
    "ax.text(256,1.02,\"NumPy\",color=\"gray\")\n",
    "ax.set_xticks([pixlist[0]]+list(pixlist[3:]))\n",
    "#ax.set_xticks(range(len(pixlist)))\n",
    "ax.set_xticklabels(ax.get_xticks()/wfirst_optsys.beam_ratio)\n",
    "ax.set_yticks(np.arange(0,1.1,.1))\n",
    "ax.set_ylabel(\"Fractional Run Time\")\n",
    "plt.legend()\n",
    "plt.grid()\n",
    "plt.xlabel(\"Array Dimensions [pix]\")\n",
    "plt.ylim([0,1.1])\n",
    "#plt.yscale(\"log\")\n",
    "plt.savefig(\"benchmarks%icores.pdf\"%(ne.ncores),bbox_inches=\"tight\")"
   ]
  },
  {
   "cell_type": "code",
   "execution_count": null,
   "metadata": {},
   "outputs": [],
   "source": [
    "plt.figure(figsize=[4,3])\n",
    "ax=plt.subplot(111)\n",
    "\n",
    "ticks=np.int_(pixlist*4)\n",
    "y=pd.read_csv('cuda'+str(False)+'NumExpr'+str(False)+'FFT'+str(False)+'.csv',index_col=0)\n",
    "y[\"avg\"].plot.bar(yerr=y[\"std\"],\n",
    "                       #ticks=ticks,\n",
    "                  label=\"NumPy\",color=\"orange\",linestyle=\"--\",\n",
    "                   alpha=.7,ax=ax)\n",
    "\n",
    "#ax.text(256,1.02,\"NumPy\",color=\"gray\")\n",
    "ax.set_ylabel(\"Run Time [sec]\")\n",
    "plt.legend()\n",
    "plt.minorticks_on()\n",
    "\n",
    "plt.grid(b=True, which='major', color='b', linestyle='-',alpha=.5)\n",
    "\n",
    "plt.grid(b=True, which='minor', color='r', linestyle='--',alpha=.5)\n",
    "plt.xlabel(\"Array Dimensions [pix]\")\n",
    "#plt.yscale(\"log\")\n",
    "plt.yscale(\"log\")\n",
    "ax.set_xticklabels(ticks)\n",
    "\n",
    "\n",
    "plt.savefig(\"NumPy_runtime%icores.pdf\"%(ne.ncores),bbox_inches=\"tight\")"
   ]
  },
  {
   "cell_type": "code",
   "execution_count": null,
   "metadata": {},
   "outputs": [],
   "source": [
    "ticks"
   ]
  },
  {
   "cell_type": "code",
   "execution_count": null,
   "metadata": {},
   "outputs": [],
   "source": [
    "x=ax.get_xticklabels()[0]\n",
    "np.array()"
   ]
  },
  {
   "cell_type": "code",
   "execution_count": null,
   "metadata": {
    "collapsed": true
   },
   "outputs": [],
   "source": []
  },
  {
   "cell_type": "code",
   "execution_count": null,
   "metadata": {
    "collapsed": true
   },
   "outputs": [],
   "source": []
  },
  {
   "cell_type": "code",
   "execution_count": null,
   "metadata": {
    "collapsed": true
   },
   "outputs": [],
   "source": []
  },
  {
   "cell_type": "code",
   "execution_count": null,
   "metadata": {
    "collapsed": true
   },
   "outputs": [],
   "source": [
    "\n"
   ]
  },
  {
   "cell_type": "markdown",
   "metadata": {},
   "source": [
    "##  83e5e2d3be3240c2867a02f8e89c7b1802cb3a4e\n",
    "\n",
    "\n",
    "environment accelerate 83e5e2d3be3240c2867a02f8e89c7b1802cb3a4e:\n",
    "\n",
    "`ne.ncores,ne.nthreads,ne.show_config()`\n",
    "\n",
    "```mkl_info:\n",
    "    libraries = ['mkl_rt', 'pthread']\n",
    "    library_dirs = ['/home/edouglas/miniconda3/envs/anaconda/lib']\n",
    "    define_macros = [('SCIPY_MKL_H', None), ('HAVE_CBLAS', None)]\n",
    "    include_dirs = ['/home/edouglas/miniconda3/envs/anaconda/include']\n",
    "Out[29]:\n",
    "(8, 8, None)\n",
    "```\n",
    "\n",
    "### standard install with np.fft\n",
    "```\n",
    "1.58 s ± 36.1 ms per loop (mean ± std. dev. of 7 runs, 1 loop each)\n",
    "32.2 s ± 710 ms per loop (mean ± std. dev. of 7 runs, 1 loop each)\n",
    "2min 8s ± 3.18 s per loop (mean ± std. dev. of 7 runs, 1 loop each)\n",
    "```\n",
    "### standard install with pyfftw:\n",
    "```\n",
    "1.21 s ± 32.1 ms per loop (mean ± std. dev. of 7 runs, 1 loop each)\n",
    "24 s ± 249 ms per loop (mean ± std. dev. of 7 runs, 1 loop each)\n",
    "1min 34s ± 791 ms per loop (mean ± std. dev. of 7 runs, 1 loop each)\n",
    "\n",
    "```\n",
    "### NumExpr but no cuda:\n",
    "\n",
    "\n",
    "```\n",
    "959 ms ± 18.3 ms per loop (mean ± std. dev. of 7 runs, 1 loop each)\n",
    "20.5 s ± 726 ms per loop (mean ± std. dev. of 7 runs, 1 loop each)\n",
    "1min 22s ± 465 ms per loop (mean ± std. dev. of 7 runs, 1 loop each)\n",
    "```\n",
    "\n",
    "### NumExpr +  cuda, 2x faster:\n",
    "```\n",
    "497 ms ± 15.8 ms per loop (mean ± std. dev. of 7 runs, 1 loop each)\n",
    "9.23 s ± 51.6 ms per loop (mean ± std. dev. of 7 runs, 1 loop each)\n",
    "40 s ± 387 ms per loop (mean ± std. dev. of 7 runs, 1 loop each)\n",
    "```"
   ]
  },
  {
   "cell_type": "markdown",
   "metadata": {},
   "source": [
    "# Old:\n",
    "\n",
    "commit:4d86854bc2e709d7415ac8e9075098c7f9b4dc16\n",
    "\n",
    "```%timeit  wfirst_optsys.calcPSF(wavelength=wavelen, display_intermediates=False, return_intermediates=False)```\n",
    "\n",
    "```\n",
    "5.8 s ± 58.5 ms per loop (mean ± std. dev. of 7 runs, 1 loop each)\n",
    "In [16]:\n",
    "```\n",
    "\n",
    "commit:8049b9257a2239944f3ca5358462580d4a47804b\n",
    "```\n",
    "5.66 s ± 28.1 ms per loop (mean ± std. dev. of 7 runs, 1 loop each)\n",
    "In [8]:\n",
    "```getphasor percall: 0.353\n",
    "\n",
    "\n"
   ]
  },
  {
   "cell_type": "code",
   "execution_count": null,
   "metadata": {
    "collapsed": true
   },
   "outputs": [],
   "source": [
    "plt.figure(figsize=[4,4])\n",
    "x=np.array([1024,4096,8192])\n",
    "y_numexpr=np.array([0.959,20.5,82])\n",
    "y_numexpr_err=np.array([0.0183,0.726,0.465])\n",
    "\n",
    "y=np.array([1.58,32.2,128])\n",
    "y_err=np.array([0.036,0.710,3.28])\n",
    "\n",
    "y_fftw=np.array([1.21,24,93])\n",
    "y_fftw_err=np.array([0.032,0.249,0.791])\n",
    "\n",
    "\n",
    "\n",
    "y_numexpr_cuda=np.array([0.497,9.23 ,40])\n",
    "y_numexpr_cuda_err=np.array([0.0158,0.0516,0.387])\n",
    "plt.errorbar(x,y/y,fmt='.-',label=\"numpy\")#,yerr=y_err)\n",
    "\n",
    "\n",
    "plt.errorbar(x,y_fftw/y,label=\"FFTW\",fmt='.-')#,yerr=y_numexpr_err)\n",
    "\n",
    "plt.errorbar(x,y_numexpr/y,fmt='.-',label=\"FFTW+NumExpr\",)#,yerr=y_numexpr_err)\n",
    "\n",
    "\n",
    "\n",
    "\n",
    "plt.errorbar(x,y_numexpr_cuda/y,label=\"cuda+NumExpr\",fmt='.-')#,yerr=y_numexpr_cuda_err)\n",
    "#plt.yscale()\n",
    "plt.legend()\n",
    "plt.ylabel(\"numpy normalized time\")\n",
    "plt.xlabel(\"array dimension\")\n",
    "plt.title(\"3 surface optical system\")"
   ]
  },
  {
   "cell_type": "code",
   "execution_count": null,
   "metadata": {
    "collapsed": true
   },
   "outputs": [],
   "source": [
    "%%prun\n",
    "poppy.conf.use_cuda=False\n",
    "psf = wfirst_optsys.calcPSF(wavelength=wavelen, display_intermediates=False, return_intermediates=False)\n"
   ]
  },
  {
   "cell_type": "code",
   "execution_count": null,
   "metadata": {
    "collapsed": true
   },
   "outputs": [],
   "source": [
    "poppy.display_psf(psf)\n"
   ]
  },
  {
   "cell_type": "code",
   "execution_count": null,
   "metadata": {
    "collapsed": true,
    "scrolled": false
   },
   "outputs": [],
   "source": [
    "plt.figure(figsize=(12,8))\n",
    "psf = wfirst_optsys.calcPSF(wavelength=wavelen, display_intermediates=True, return_intermediates=True)"
   ]
  },
  {
   "cell_type": "code",
   "execution_count": null,
   "metadata": {
    "collapsed": true
   },
   "outputs": [],
   "source": [
    "#exit_wf = waves[-1]\n",
    "plt.imshow(np.log10(wf.intensity), cmap='gray', vmin=-6, vmax=0)\n",
    "plt.colorbar()"
   ]
  },
  {
   "cell_type": "markdown",
   "metadata": {},
   "source": [
    "# 2. WFIRST pupil"
   ]
  },
  {
   "cell_type": "code",
   "execution_count": null,
   "metadata": {
    "collapsed": true
   },
   "outputs": [],
   "source": [
    "os.environ['WEBBPSF_PATH'] = os.path.expanduser('~/STScI/WFIRST/webbpsf-data/')"
   ]
  },
  {
   "cell_type": "code",
   "execution_count": null,
   "metadata": {
    "collapsed": true
   },
   "outputs": [],
   "source": [
    "wavelen = 770e-9\n",
    "\n",
    "Tel_fname = os.path.join(os.environ['WEBBPSF_PATH'], \"AFTA_CGI_C5_Pupil_onax_256px_flip.fits\")\n",
    "SP_fname = os.path.join(os.environ['WEBBPSF_PATH'], \"CGI/optics/CHARSPC_SP_256pix.fits.gz\")\n",
    "FPM_fname = os.path.join(os.environ['WEBBPSF_PATH'], \"CGI/optics/CHARSPC_FPM_25WA90_2x65deg_-_FP1res4_evensamp_D072_F770.fits.gz\")\n",
    "LS_fname = os.path.join(os.environ['WEBBPSF_PATH'], \"CGI/optics/SPC_LS_30D88_256pix.fits.gz\")\n",
    "\n",
    "D_prim = 2.37 * u.m\n",
    "D_relay = 20 * u.mm\n",
    "fr_pri = 7.8\n",
    "fl_pri = D_prim * fr_pri\n",
    "fl_m2 = fl_pri * D_relay / D_prim\n",
    "fr_m3 = 20.\n",
    "fl_m3 = fr_m3 * D_relay\n",
    "\n",
    "wfirst_optsys = poppy.FresnelOpticalSystem(pupil_diameter=D_prim, beam_ratio=1, npix=512)\n",
    "\n",
    "telap = poppy.FITSOpticalElement(transmission=Tel_fname)\n",
    "SP = poppy.FITSOpticalElement(transmission=SP_fname)\n",
    "FPM = poppy.FITSOpticalElement(transmission=FPM_fname)\n",
    "\n",
    "m1 = poppy.QuadraticLens(fl_pri, name='Primary')\n",
    "m2 = poppy.QuadraticLens(fl_m2, name='M2')\n",
    "m3 = poppy.QuadraticLens(fl_m3, name='M3')\n",
    "m4 = poppy.QuadraticLens(fl_m3, name='M4')\n",
    "m5 = poppy.QuadraticLens(fl_m3, name='M5')\n",
    "m6 = poppy.QuadraticLens(fl_m3, name='M6')\n",
    "\n",
    "wfirst_optsys.add_optic(telap)\n",
    "wfirst_optsys.add_optic(m1)\n",
    "wfirst_optsys.add_optic(m2, distance = fl_pri + fl_m2)\n",
    "wfirst_optsys.add_optic(m3, distance = fl_m2 + fl_m3)\n",
    "wfirst_optsys.add_optic(m4, distance = 2*fl_m3)\n",
    "#wfirst_optsys.add_optic(SP, distance = fl_m3)\n",
    "#wfirst_optsys.add_optic(m5, distance = fl_m3)\n",
    "#wfirst_optsys.add_optic(FPM, distance = fl_m3)\n",
    "\n",
    "wfirst_optsys.add_optic(m5, distance = 2*fl_m3)\n",
    "\n",
    "wfirst_optsys.add_optic(poppy.ScalarTransmission(planetype=poppy.poppy_core.PlaneType.intermediate, name='focus'),\n",
    "                        distance=fl_m3)"
   ]
  },
  {
   "cell_type": "code",
   "execution_count": null,
   "metadata": {
    "collapsed": true,
    "scrolled": false
   },
   "outputs": [],
   "source": [
    "plt.figure(figsize=(12,8))\n",
    "psf, waves = wfirst_optsys.calcPSF(wavelength=wavelen, display_intermediates=False, return_intermediates=True)"
   ]
  },
  {
   "cell_type": "code",
   "execution_count": null,
   "metadata": {
    "collapsed": true
   },
   "outputs": [],
   "source": [
    "exit_wf = waves[-1]\n",
    "plt.imshow(np.log10(exit_wf.intensity), cmap='gnuplot', vmin=-13, vmax=0)\n",
    "plt.colorbar()"
   ]
  },
  {
   "cell_type": "code",
   "execution_count": null,
   "metadata": {
    "collapsed": true
   },
   "outputs": [],
   "source": [
    "SP_fname = os.path.join(os.environ['WEBBPSF_PATH'], \"CGI/optics/CHARSPC_SP_256pix.fits.gz\")\n",
    "\n",
    "SP = poppy.FITSOpticalElement(transmission=SP_fname)\n",
    "SP.display()\n",
    "\n",
    "#set SP pixelscale to match the beam at the position of the SP\n",
    "SP.pixelscale=7.812515028023353e-05*u.m/u.pixel\n",
    "\n"
   ]
  },
  {
   "cell_type": "markdown",
   "metadata": {},
   "source": [
    "# 3. WFIRST with shaped pupil (without Lyot)"
   ]
  },
  {
   "cell_type": "code",
   "execution_count": null,
   "metadata": {
    "collapsed": true
   },
   "outputs": [],
   "source": [
    "wavelen = 770e-9\n",
    "\n",
    "\n",
    "D_prim = 2.37 * u.m\n",
    "D_relay = 20 * u.mm\n",
    "fr_pri = 7.8\n",
    "fl_pri = D_prim * fr_pri\n",
    "fl_m2 = fl_pri * D_relay / D_prim\n",
    "fr_m3 = 20.\n",
    "fl_m3 = fr_m3 * D_relay\n",
    "\n",
    "wfirst_optsys = poppy.FresnelOpticalSystem(pupil_diameter=D_prim, beam_ratio=1/10, npix=512)\n",
    "\n",
    "telap = poppy.FITSOpticalElement(transmission=Tel_fname)\n",
    "FPM = poppy.FITSOpticalElement(transmission=FPM_fname)\n",
    "m1 = poppy.QuadraticLens(fl_pri, name='Primary')\n",
    "m2 = poppy.QuadraticLens(fl_m2, name='M2')\n",
    "m3 = poppy.QuadraticLens(fl_m3, name='M3')\n",
    "m4 = poppy.QuadraticLens(fl_m3, name='M4')\n",
    "m5 = poppy.QuadraticLens(fl_m3, name='M5')\n",
    "m6 = poppy.QuadraticLens(fl_m3, name='M6')\n",
    "\n",
    "wfirst_optsys.add_optic(telap)\n",
    "wfirst_optsys.add_optic(m1)\n",
    "wfirst_optsys.add_optic(m2, distance = fl_pri + fl_m2)\n",
    "wfirst_optsys.add_optic(m3, distance = fl_m2 + fl_m3)\n",
    "wfirst_optsys.add_optic(m4, distance = 2*fl_m3)\n",
    "wfirst_optsys.add_optic(SP, distance = fl_m3)\n",
    "wfirst_optsys.add_optic(m5, distance = fl_m3)\n",
    "#wfirst_optsys.add_optic(FPM, distance = fl_m3)\n",
    "\n",
    "#wfirst_optsys.add_optic(m5, distance = 2*fl_m3)\n",
    "\n",
    "wfirst_optsys.add_optic(poppy.ScalarTransmission(planetype=poppy.poppy_core.PlaneType.intermediate, name='focus'),\n",
    "                        distance=fl_m3)"
   ]
  },
  {
   "cell_type": "code",
   "execution_count": null,
   "metadata": {
    "collapsed": true,
    "scrolled": false
   },
   "outputs": [],
   "source": [
    "plt.figure(figsize=(12,8))\n",
    "%timeit psf, waves = wfirst_optsys.calcPSF(wavelength=wavelen, display_intermediates=False, return_intermediates=True)"
   ]
  },
  {
   "cell_type": "markdown",
   "metadata": {},
   "source": [
    "#### no acceleration:\n",
    "    CPU times: user 1min 14s, sys: 20.4 s, total: 1min 34s\n",
    "Wall time: 1min 34s\n",
    "CPU times: user 37.2 s, sys: 10.1 s, total: 47.3 s\n",
    "Wall time: 23.8 s"
   ]
  },
  {
   "cell_type": "code",
   "execution_count": null,
   "metadata": {
    "collapsed": true
   },
   "outputs": [],
   "source": [
    " psf, waves = wfirst_optsys.calcPSF(wavelength=wavelen, display_intermediates=False, return_intermediates=True)\n",
    "exit_wf = waves[-1]\n",
    "plt.imshow(np.log10(exit_wf.intensity[exit_wf.n/2-25:exit_wf.n/2+25,exit_wf.n/2-25:exit_wf.n/2+25]), \n",
    "           cmap='gray', vmin=-10, vmax=0)\n",
    "plt.colorbar()\n"
   ]
  },
  {
   "cell_type": "code",
   "execution_count": null,
   "metadata": {
    "collapsed": true
   },
   "outputs": [],
   "source": [
    "\n",
    "plt.figure(figsize=[14,7])\n",
    "plt.subplot(121)\n",
    "plt.imshow(waves[-3].intensity+waves[-4].intensity)\n",
    "plt.subplot(122)\n",
    "plt.imshow(waves[-3].intensity)"
   ]
  },
  {
   "cell_type": "code",
   "execution_count": null,
   "metadata": {
    "collapsed": true
   },
   "outputs": [],
   "source": [
    "waves"
   ]
  },
  {
   "cell_type": "code",
   "execution_count": null,
   "metadata": {
    "collapsed": true
   },
   "outputs": [],
   "source": [
    "osys = poppy.OpticalSystem(pupil_diameter=2.4)\n",
    "SP_original = poppy.FITSOpticalElement(transmission=SP_fname)\n",
    "\n",
    "\n",
    "osys.add_pupil( SP_original)    # pupil radius in meters\n",
    "osys.add_detector(pixelscale=0.010, fov_arcsec=2.0)  # image plane coordinates in arcseconds\n",
    "\n",
    "psf = osys.calc_psf(wavelength=wavelen)                            # wavelength in microns\n",
    "poppy.display_PSF(psf, title='The Airy Function',vmin=1e-10,imagecrop=5)\n",
    "SP"
   ]
  },
  {
   "cell_type": "code",
   "execution_count": null,
   "metadata": {
    "collapsed": true
   },
   "outputs": [],
   "source": [
    "plt.figure(figsize=(10,3))\n",
    "plt.subplot(131)\n",
    "plt.imshow(np.log10(exit_wf.intensity[exit_wf.n/2-150:exit_wf.n/2+150,exit_wf.n/2-150:exit_wf.n/2+150]), cmap='gray', vmin=-10, vmax=0)\n",
    "plt.colorbar()\n",
    "plt.subplot(132)\n",
    "plt.imshow(np.log10(psf[0].data), cmap='gray', vmin=-10, vmax=0)\n",
    "plt.colorbar()\n",
    "\n",
    "plt.subplot(133)\n",
    "\n",
    "plt.savefig(\"SP_%i+%ix.png\"%(exit_wf.n,exit_wf.oversample))\n"
   ]
  },
  {
   "cell_type": "code",
   "execution_count": null,
   "metadata": {
    "collapsed": true
   },
   "outputs": [],
   "source": [
    "exit_wf.n"
   ]
  },
  {
   "cell_type": "code",
   "execution_count": null,
   "metadata": {
    "collapsed": true
   },
   "outputs": [],
   "source": []
  },
  {
   "cell_type": "code",
   "execution_count": null,
   "metadata": {
    "collapsed": true
   },
   "outputs": [],
   "source": []
  },
  {
   "cell_type": "code",
   "execution_count": null,
   "metadata": {
    "collapsed": true
   },
   "outputs": [],
   "source": []
  },
  {
   "cell_type": "code",
   "execution_count": null,
   "metadata": {
    "collapsed": true
   },
   "outputs": [],
   "source": []
  }
 ],
 "metadata": {
  "anaconda-cloud": {},
  "kernelspec": {
   "display_name": "Python [default]",
   "language": "python",
   "name": "python3"
  },
  "language_info": {
   "codemirror_mode": {
    "name": "ipython",
    "version": 3
   },
   "file_extension": ".py",
   "mimetype": "text/x-python",
   "name": "python",
   "nbconvert_exporter": "python",
   "pygments_lexer": "ipython3",
   "version": "3.6.2"
  }
 },
 "nbformat": 4,
 "nbformat_minor": 1
}
