{
 "cells": [
  {
   "cell_type": "code",
   "execution_count": 2,
   "metadata": {
    "collapsed": true
   },
   "outputs": [],
   "source": [
    "import poppy\n",
    "import astropy.units as u\n",
    "import logging\n",
    "import importlib\n",
    "import matplotlib.pyplot as plt\n",
    "import numpy as np\n",
    "%matplotlib inline\n"
   ]
  },
  {
   "cell_type": "markdown",
   "metadata": {},
   "source": [
    "Starting with Maxwell's equations:\n",
    "* Faraday: $\\nabla \\times \\vec{E} = \\frac{-\\partial \\vec{B}}{\\partial t}$\n",
    "* Ampere-Maxwell: $\\nabla \\times \\vec{B} =\\mu_o \\epsilon_o\\frac{\\partial \\vec{E}}{\\partial t}+\\mu_o \\vec{J}$"
   ]
  },
  {
   "cell_type": "markdown",
   "metadata": {},
   "source": [
    "Taking the curle of Faraday's law gives:\n",
    "\n",
    "$\\nabla \\times (\\nabla \\times \\vec{E}) = \\frac{-\\partial \\vec{B}}{\\partial t} =$\n",
    "$\\mu_o \\epsilon_o\\frac{\\partial^2 \\vec{E}}{\\partial t^2}$\n",
    "\n",
    "Taking advantage of the vector identity for a vector $\\vec{X}$:\n",
    "\n",
    "$\\nabla \\times (\\nabla \\times \\vec{X}) = \\nabla(\\nabla \\cdot \\vec{X}) - \\nabla^2\\vec{X}$\n",
    "\n",
    "and  Gauss' law for a wave in a vacuum ($\\nabla\\cdot\\vec{E}=0$), we find the wave equation for the vector electric field:\n",
    "\n",
    "$-\\nabla^2\\vec{E} = \\mu_o \\epsilon_o\\frac{\\partial^2 \\vec{E}}{\\partial t^2} $\n",
    "\n",
    "To derive diffraction theory we will make a series of approximations.\n",
    "\n"
   ]
  },
  {
   "cell_type": "markdown",
   "metadata": {},
   "source": [
    "Approx. 1) the scalar wave equation, which requires an approximately homogeneous medium. Each component of the wave equation can be expressed as a separate wave equation:\n",
    "\n",
    "$\\nabla^2E_x - \\frac{n^2}{c^2}\\frac{\\partial^2E_x}{\\partial t^2}=0$,\n",
    "\n",
    "Any scalar component ($u$) follows the same equation:\n",
    " \n",
    "$\\nabla^2u - \\frac{n^2}{c^2}\\frac{\\partial^2u}{\\partial t^2}=0$."
   ]
  },
  {
   "cell_type": "markdown",
   "metadata": {},
   "source": [
    "Assuming a time-independent solution, this equation becomes the Helmoltz Equation ([Wikipedia](https://en.wikipedia.org/wiki/Helmholtz_equation), [Wolfram Mathworld](http://mathworld.wolfram.com/HelmholtzDifferentialEquation.html)):\n",
    "\n",
    "$(\\nabla^2 +(\\frac{2\\pi}{\\lambda})^2)U=(\\nabla^2 +k^2)U=0$\n",
    "\n",
    "Approx. 2) Paraxial solution, where the angle between $k$ and the optical axis $z$ is small. "
   ]
  },
  {
   "cell_type": "markdown",
   "metadata": {
    "collapsed": true
   },
   "source": [
    "\n",
    "\n",
    "plugging in the plane wave solution\n",
    "\n",
    "$u(P,t)= Re\\{U(P)e^{-i2\\pi\\nu t}\\}$\n",
    "\n",
    "where the phasor is composed of the wave amplitude and phase: $U(P)=A(p)e^{i\\phi(P)}$\n",
    "\n",
    "\n",
    "\n",
    "In the paraxial approximation, the operation of a lens is to apply a quadratic phase function, which is equivalent to a parabolic surface:\n",
    "\n",
    "The action of a lens is to change the phase \n",
    "\n",
    "References:\n",
    "\n",
    "Goodman 2005\n",
    "\n",
    "Lawrence 1992."
   ]
  },
  {
   "cell_type": "code",
   "execution_count": 3,
   "metadata": {
    "collapsed": false
   },
   "outputs": [
    {
     "data": {
      "text/plain": [
       "(<matplotlib.axes._subplots.AxesSubplot at 0x111c031d0>,\n",
       " <matplotlib.axes._subplots.AxesSubplot at 0x128aa4470>)"
      ]
     },
     "execution_count": 3,
     "metadata": {},
     "output_type": "execute_result"
    },
    {
     "data": {
      "image/png": "[encoded data removed]",
      "text/plain": [
       "<matplotlib.figure.Figure at 0x10ca30320>"
      ]
     },
     "metadata": {},
     "output_type": "display_data"
    }
   ],
   "source": [
    "\n",
    "wf = poppy.FresnelWavefront(1*u.m,\n",
    "    wavelength=500*u.nm,\n",
    "    npix=1024,\n",
    "    oversample=2)\n",
    "wf *= poppy.CircularAperture(radius=2 * u.mm)\n",
    "wf.display(what=\"both\")"
   ]
  },
  {
   "cell_type": "code",
   "execution_count": 5,
   "metadata": {
    "collapsed": true
   },
   "outputs": [],
   "source": [
    "\n",
    "poppy.QuadPhase?"
   ]
  },
  {
   "cell_type": "code",
   "execution_count": 4,
   "metadata": {
    "collapsed": false
   },
   "outputs": [
    {
     "name": "stderr",
     "output_type": "stream",
     "text": [
      "Oversampling > 2x suggested for reliable results.\n"
     ]
    },
    {
     "data": {
      "text/plain": [
       "(<matplotlib.axes._subplots.AxesSubplot at 0x10d02fd30>,\n",
       " <matplotlib.axes._subplots.AxesSubplot at 0x10d093630>)"
      ]
     },
     "execution_count": 4,
     "metadata": {},
     "output_type": "execute_result"
    },
    {
     "data": {
      "image/png": "[encoded data removed]",
      "text/plain": [
       "<matplotlib.figure.Figure at 0x128bf99e8>"
      ]
     },
     "metadata": {},
     "output_type": "display_data"
    }
   ],
   "source": [
    "\n",
    "wf = poppy.FresnelWavefront(1*u.m,\n",
    "    wavelength=500*u.nm,\n",
    "    npix=1024,\n",
    "    oversample=1)\n",
    "wf *= poppy.CircularAperture(radius=2 * u.mm)\n",
    "wf.display(what=\"both\")"
   ]
  },
  {
   "cell_type": "code",
   "execution_count": null,
   "metadata": {
    "collapsed": true
   },
   "outputs": [],
   "source": []
  }
 ],
 "metadata": {
  "anaconda-cloud": {},
  "celltoolbar": "Raw Cell Format",
  "kernelspec": {
   "display_name": "Python [poppy-dev]",
   "language": "python",
   "name": "Python [poppy-dev]"
  },
  "language_info": {
   "codemirror_mode": {
    "name": "ipython",
    "version": 3
   },
   "file_extension": ".py",
   "mimetype": "text/x-python",
   "name": "python",
   "nbconvert_exporter": "python",
   "pygments_lexer": "ipython3",
   "version": "3.5.2"
  }
 },
 "nbformat": 4,
 "nbformat_minor": 0
}
