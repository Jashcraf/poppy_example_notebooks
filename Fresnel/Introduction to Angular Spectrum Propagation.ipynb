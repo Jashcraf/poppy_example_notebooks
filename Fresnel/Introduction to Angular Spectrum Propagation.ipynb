{
 "cells": [
  {
   "cell_type": "code",
   "execution_count": null,
   "metadata": {
    "collapsed": false
   },
   "outputs": [],
   "source": [
    "import poppy\n",
    "import astropy.units as u\n",
    "import logging\n",
    "import importlib\n",
    "import matplotlib.pyplot as plt\n",
    "from matplotlib.colors import SymLogNorm\n",
    "import numpy as np\n",
    "%matplotlib inline\n",
    "plt.rcParams.update({\"font.size\":8})\n",
    "logging.basicConfig(format='%(levelname)s:%(message)s', level=logging.DEBUG)\n",
    "\n"
   ]
  },
  {
   "cell_type": "markdown",
   "metadata": {},
   "source": [
    "Starting with Maxwell's equations:\n",
    "* Faraday: $\\nabla \\times \\vec{E} = \\frac{-\\partial \\vec{B}}{\\partial t}$\n",
    "* Ampere-Maxwell: $\\nabla \\times \\vec{B} =\\mu_o \\epsilon_o\\frac{\\partial \\vec{E}}{\\partial t}+\\mu_o \\vec{J}$"
   ]
  },
  {
   "cell_type": "markdown",
   "metadata": {},
   "source": [
    "Taking the curle of Faraday's law gives:\n",
    "\n",
    "$\\nabla \\times (\\nabla \\times \\vec{E}) = \\frac{-\\partial \\vec{B}}{\\partial t} =$\n",
    "$\\mu_o \\epsilon_o\\frac{\\partial^2 \\vec{E}}{\\partial t^2}$\n",
    "\n",
    "Taking advantage of the vector identity for a vector $\\vec{X}$:\n",
    "\n",
    "$\\nabla \\times (\\nabla \\times \\vec{X}) = \\nabla(\\nabla \\cdot \\vec{X}) - \\nabla^2\\vec{X}$\n",
    "\n",
    "and  Gauss' law for a wave in a vacuum ($\\nabla\\cdot\\vec{E}=0$), we find the wave equation for the vector electric field:\n",
    "\n",
    "$-\\nabla^2\\vec{E} = \\mu_o \\epsilon_o\\frac{\\partial^2 \\vec{E}}{\\partial t^2} $\n",
    "\n",
    "To derive diffraction theory we will make a series of approximations.\n",
    "\n"
   ]
  },
  {
   "cell_type": "markdown",
   "metadata": {},
   "source": [
    "Approx. 1) the scalar wave equation, which requires an approximately homogeneous medium. Each component of the wave equation can be expressed as a separate wave equation:\n",
    "\n",
    "$\\nabla^2E_x - \\frac{n^2}{c^2}\\frac{\\partial^2E_x}{\\partial t^2}=0$,\n",
    "\n",
    "Any scalar component ($u$) follows the same equation:\n",
    " \n",
    "$\\nabla^2u - \\frac{n^2}{c^2}\\frac{\\partial^2u}{\\partial t^2}=0$."
   ]
  },
  {
   "cell_type": "markdown",
   "metadata": {},
   "source": [
    "Assuming a time-independent solution, this equation becomes the Helmoltz Equation ([Wikipedia](https://en.wikipedia.org/wiki/Helmholtz_equation), [Wolfram Mathworld](http://mathworld.wolfram.com/HelmholtzDifferentialEquation.html)):\n",
    "\n",
    "$(\\nabla^2 +(\\frac{2\\pi}{\\lambda})^2)U=(\\nabla^2 +k^2)U=0$\n",
    "\n",
    "Plane wave solution:\n",
    "\n",
    "$p(x,y,z,t) = e^{j(\\vec{k}\\cdot\\vec{r}-2\\pi\\nu t)}$\n",
    "\n",
    "Fourier transforms:\n",
    "\n"
   ]
  },
  {
   "cell_type": "markdown",
   "metadata": {},
   "source": [
    "Approx. 2) Paraxial solution, where the angle between $k$ and the optical axis $z$ is small. \n",
    "\n",
    "plugging in the plane wave solution\n",
    "\n",
    "$u(P,t)= Re\\{U(P)e^{-i2\\pi\\nu t}\\}$\n",
    "\n",
    "where the phasor is composed of the wave amplitude and phase: $U(P)=A(p)e^{i\\phi(P)}$\n",
    "\n",
    "### Action of a Lens\n",
    "\n",
    "As detailed subsequently, in the paraxial approximation, the operation of a lens is to apply a quadratic phase function, which is equivalent to a parabolic surface.\n",
    "\n",
    "The action of a lens is to change the phase as a function of radius. \n",
    "Neglecting propagation between the curved surface \n",
    "For a lens with a spherical surface radius R, the optical path difference in the $x,y$ plane is \n",
    "\n",
    "$\\Delta (x,y) = n(C \\pm \\left(R-\\sqrt{R^2-x^2-y^2}\\right))$\n",
    "$ = n(C \\pm R\\left(1-\\sqrt{1-\\frac{x^2-y^2}{R^2}}\\right))$.\n",
    "\n",
    "Where C is a constant depending on the total thickness of the lens and the sign depends on the the orientation of the surface relative to the incident beam.\n",
    "\n",
    "In the paraxial case, the relation above becomes:\n",
    "\n",
    "$\\Delta (x,y) = C \\pm R\\left({\\frac{x^2-y^2}{2R}}\\right)$.\n",
    "\n",
    "for lens with two radii of curvature, the total thickness is:\n",
    "\n",
    "$\\Delta (x,y) = C - \\frac{x^2-y^2}{2}\\left(\\frac{1}{R_1}-\\frac{1}{R_2}\\right)$.\n",
    "\n",
    "Expressing the focal length as the thin lensmakers equation:\n",
    "\n",
    "$\\frac{1}{f}\\equiv (n-1)\\left(\\frac{1}{R_1} -\\frac{1}{R_2}\\right)$.\n",
    "\n",
    "$\\Delta (x,y) = C - \\frac{x^2-y^2}{2}\\frac{1}{(n-1)f}$.\n",
    "\n",
    "the phase difference due to glass lens of index of refraction $n$ is:\n",
    "\n",
    "$\\Delta\\phi(x,y) = kn\\Delta(x,y) + k(\\Delta_0-\\Delta(x,y))$\n",
    "\n",
    "The action of the lens on an incident wavefront can be expressed as a complex transformation of:\n",
    "\n",
    "$e^{jk\\Delta_0}e^{jk(n-1)\\Delta(x,y)} = e^{-j\\frac{k}{2f}(x^2-y^2)}$ \n",
    "\n",
    "This is the same quadratic phase factor as far-field propagation and a parabolic optic.\n",
    "\n",
    "Thus, the transformation of a lens from a plane-wave to a focal plane is the same Fraunhofer far-field propagation.\n",
    "\n",
    "(Goodman eq. 5-1).\n",
    "\n",
    "The propagation approach use by POPPY, described in Lawrence 1992, defines the wavefront state in terms of inside and outside the Rayleigh range. \n",
    "Inside is defined as planar, and outside is defined as spherical. \n",
    "\n",
    "Propagation between any two planes is carried out by first determining whether the source and target plane will be spherical. "
   ]
  },
  {
   "cell_type": "markdown",
   "metadata": {},
   "source": [
    "The sequence employed in the POPPY propagation code is:\n",
    "\n",
    "1. Initiate a plane wave.\n",
    "\n",
    "3. Determine the effective wavefront curvature, based on the current wavefront curvature incident on the lens and the lens radius of curvature. \n",
    "4. \n"
   ]
  },
  {
   "cell_type": "markdown",
   "metadata": {
    "collapsed": true
   },
   "source": [
    "References:\n",
    "\n",
    "Goodman 2005\n",
    "\n",
    "Lawrence 1992."
   ]
  },
  {
   "cell_type": "code",
   "execution_count": null,
   "metadata": {
    "collapsed": true
   },
   "outputs": [],
   "source": [
    "#define some parameters of the Hubble Space Telescope \n",
    "diam = 2.4 * u.m\n",
    "fl_pri = 5.52085 * u.m\n",
    "d_pri_sec = 4.907028205 * u.m\n",
    "fl_sec = -0.6790325 * u.m\n",
    "d_sec_to_focus = 6.3919974 * u.m"
   ]
  },
  {
   "cell_type": "markdown",
   "metadata": {},
   "source": [
    "### Initiate a plane wave \n",
    "\n",
    "and apply a circular aperture."
   ]
  },
  {
   "cell_type": "code",
   "execution_count": null,
   "metadata": {
    "collapsed": false
   },
   "outputs": [],
   "source": [
    "wf_init = poppy.FresnelWavefront(2.4*u.m,\n",
    "    wavelength=500*u.nm,\n",
    "    npix=1024,\n",
    "    oversample=2)\n",
    "wf_init.display(what=\"both\")"
   ]
  },
  {
   "cell_type": "code",
   "execution_count": null,
   "metadata": {
    "collapsed": false
   },
   "outputs": [],
   "source": [
    "wf_init *= poppy.CircularAperture(radius=1.2* u.m)\n",
    "wf_init.display(what=\"both\")"
   ]
  },
  {
   "cell_type": "markdown",
   "metadata": {},
   "source": [
    "### Multiply the wavefront by a lens operator\n",
    "\n",
    "Multiplication of the wavefront by a Quadradic lens OpticalElement initiates a sequence of calculations:\n",
    "\n",
    "#### 1. Determine if the incident beam is spherical or planar.\n",
    "\n",
    "If the input beam is planar (or the distance to the waist is less than the rayleigh distance), the radius of curvature of the input beam $r_i=\\infty$ and output beam is the focal length $r_{o}=-f$.\n",
    "\n"
   ]
  },
  {
   "cell_type": "code",
   "execution_count": null,
   "metadata": {
    "collapsed": false
   },
   "outputs": [],
   "source": [
    "fl_pri = 5.52085 * u.m\n",
    "wf=wf_init.copy()\n",
    "M1 = poppy.QuadraticLens(fl_pri, name='Lens1')\n",
    "plt.figure(figsize=[7,3])\n",
    "plt.subplot(121)\n",
    "plt.imshow(wf.phase,cmap=plt.cm.magma)\n",
    "plt.colorbar()\n",
    "plt.title(\"Initial Wavefront Phase\")\n",
    "wf *= M1\n",
    "\n",
    "#wf.display(what=\"phase\",colorbar=True,vmax=0.01,vmin=-.01)\n",
    "plt.subplot(122)\n",
    "plt.imshow(wf.phase,cmap=plt.cm.magma)\n",
    "plt.colorbar()\n",
    "plt.title(\"Phase at M1\")\n",
    "plt.tight_layout()"
   ]
  },
  {
   "cell_type": "code",
   "execution_count": null,
   "metadata": {
    "collapsed": false
   },
   "outputs": [],
   "source": [
    "#wf.display(what=\"phase\",colorbar=True,vmax=0.01,vmin=-.01)\n",
    "plt.figure(figsize=[4,3])\n",
    "\n",
    "plt.imshow(wf.phase,cmap=plt.cm.magma)\n",
    "plt.colorbar()\n",
    "plt.title(\"Phase at M1\")"
   ]
  },
  {
   "cell_type": "markdown",
   "metadata": {
    "collapsed": true
   },
   "source": [
    "#### 2. Calculate the radius of curvature of the guassian beam $r_c$:\n",
    "If the input beam in not planar, then the lens operates on a curved wavefront and \n",
    "\n",
    "$\\frac{1}{r_o} = \\frac{1}{r_c}-\\frac{1}{f}$\n",
    "\n",
    "$r_c= \\delta_z\\left(1+(\\frac{z_r}{\\delta z})^2\\right)$ \n",
    "Where $\\delta z$ is the distance to the waist $\\delta z= z-z_{w_0}$\n",
    "\n",
    "For example, the beam incident on the HST secondary is curved, as can be see from the wavefront map below and the radius of curvature of the incident wave of -.614 meters.\n",
    " "
   ]
  },
  {
   "cell_type": "code",
   "execution_count": null,
   "metadata": {
    "collapsed": false
   },
   "outputs": [],
   "source": [
    "m2 = poppy.QuadraticLens(fl_sec, name='Secondary')\n",
    "wf.propagate_fresnel(d_pri_sec)\n",
    "plt.figure(figsize=[8,3])\n",
    "plt.subplot(121)\n",
    "plt.imshow(wf.phase*wf.intensity,\n",
    "           cmap=plt.cm.BrBG,\n",
    "           norm=SymLogNorm(2e-7,-2e-7))#,vmin=-20e-8)#,vmin=-100e-6)\n",
    "plt.colorbar()\n",
    "plt.title(\"Phase incident on M2 @ z=\"+str(np.round(wf.z,3))+\n",
    "         \",rc=\"+str(np.round(wf.r_c(),3)))\n",
    "\n",
    "plt.subplot(122)\n",
    "wf*=m2\n",
    "plt.imshow(wf.phase*wf.intensity,\n",
    "           cmap=plt.cm.BrBG,\n",
    "           norm=SymLogNorm(2e-7,-2e-7))#,vmin=-20e-8)#,vmin=-100e-6)\n",
    "plt.title(\"Phase departing M2 @ z=\"+str(np.round(wf.z,3))+\n",
    "         \",rc=\"+str(np.round(wf.r_c(),3)))\n",
    "\n",
    "\n",
    "plt.tight_layout()\n",
    "\n"
   ]
  },
  {
   "cell_type": "code",
   "execution_count": null,
   "metadata": {
    "collapsed": false
   },
   "outputs": [],
   "source": [
    "#### 3."
   ]
  },
  {
   "cell_type": "code",
   "execution_count": null,
   "metadata": {
    "collapsed": false
   },
   "outputs": [],
   "source": [
    "\n",
    "plt.subplot(121)\n",
    "#wf*=m2\n",
    "plt.imshow(wf.phase*wf.intensity,\n",
    "           cmap=plt.cm.BrBG,\n",
    "           norm=SymLogNorm(2e-7,-2e-7))#,vmin=-20e-8)#,vmin=-100e-6)\n",
    "plt.title(\"Phase departing M2 @ z=\"+str(np.round(wf.z,3))+\n",
    "         \",rc=\"+str(np.round(wf.r_c(),3)))\n",
    "wf.propagate_fresnel(-wf.r_c())\n",
    "\n",
    "plt.tight_layout()\n",
    "\n"
   ]
  },
  {
   "cell_type": "code",
   "execution_count": null,
   "metadata": {
    "collapsed": false
   },
   "outputs": [],
   "source": [
    "plt.imshow(wf.intensity,\n",
    "           cmap=plt.cm.plasma,\n",
    "           norm=SymLogNorm(2e-7,-2e-7))#,vmin=-20e-8)#,vmin=-100e-6)"
   ]
  },
  {
   "cell_type": "code",
   "execution_count": null,
   "metadata": {
    "collapsed": true
   },
   "outputs": [],
   "source": []
  }
 ],
 "metadata": {
  "anaconda-cloud": {},
  "celltoolbar": "Raw Cell Format",
  "kernelspec": {
   "display_name": "Python [conda root]",
   "language": "python",
   "name": "conda-root-py"
  }
 },
 "nbformat": 4,
 "nbformat_minor": 0
}
