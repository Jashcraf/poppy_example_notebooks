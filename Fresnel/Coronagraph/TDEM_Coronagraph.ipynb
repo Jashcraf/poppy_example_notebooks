{
 "cells": [
  {
   "cell_type": "code",
   "execution_count": null,
   "metadata": {
    "collapsed": false
   },
   "outputs": [],
   "source": [
    "%reset -f\n",
    "import numpy as np\n",
    "\n",
    "#plotting\n",
    "import matplotlib.pyplot as plt"
   ]
  },
  {
   "cell_type": "code",
   "execution_count": null,
   "metadata": {
    "collapsed": false
   },
   "outputs": [],
   "source": [
    "#import matplotlib.style as style\n",
    "#style.use(\"grayscale\")\n",
    "%matplotlib inline\n",
    "\n",
    "#units\n",
    "from astropy import units as u\n",
    "\n",
    "#POPPY\n",
    "import poppy\n",
    "import sys\n",
    "from poppy import fresnel\n",
    "\n",
    "\n",
    "from poppy.poppy_core import _PUPIL, _IMAGE, _INTERMED\n",
    "\n",
    "#logging\n",
    "import logging\n",
    "_log = logging.getLogger('poppy')\n",
    "_log.setLevel(logging.DEBUG)\n",
    "\n",
    "#make logging work in IPYTHON:\n",
    "try:\n",
    "    from IPython.core.debugger import Tracer; stop = Tracer()\n",
    "except:\n",
    "    pass\n",
    "\n",
    "logging.basicConfig(format='%(asctime)s %(levelname)s:%(message)s', level=logging.DEBUG, datefmt='%I:%M:%S')\n",
    "\n"
   ]
  },
  {
   "cell_type": "code",
   "execution_count": null,
   "metadata": {
    "collapsed": false
   },
   "outputs": [],
   "source": [
    "class sinc_squared_occulter(poppy.AnalyticOpticalElement):\n",
    "\n",
    "    def __init__(self, name='occulter', **kwargs):\n",
    "        poppy.AnalyticOpticalElement.__init__(self, name=name, **kwargs)\n",
    "        \n",
    "    def getPhasor(self, wave):\n",
    "        hwhm_sinc_squared = 1.7996\n",
    "        hwhm = 2.5\n",
    "        pupil_ratio = (1.0/wave.oversample)\n",
    "        y, x = wave.coordinates()\n",
    "        r = (np.sqrt(x**2 + y**2)/wave.pixelscale) * pupil_ratio * hwhm_sinc_squared/hwhm\n",
    "        theta = np.arctan2(y,x)\n",
    "        amp = 1 - (np.sinc(r/np.pi))**2 #divide by pi, b/c np.sinc=sin(x*pi)/x*pi\n",
    "        return amp"
   ]
  },
  {
   "cell_type": "code",
   "execution_count": null,
   "metadata": {
    "collapsed": false
   },
   "outputs": [],
   "source": [
    "class phase_aberation_inducer(poppy.AnalyticOpticalElement):\n",
    "\n",
    "    def __init__(self, name=None, radius=1.0, pad_factor=1.0, map_adjust = 1e5, **kwargs):\n",
    "        try:\n",
    "            self.radius = float(radius)\n",
    "        except ValueError:\n",
    "            raise TypeError(\"Argument 'radius' must be the radius of the pupil in meters\")\n",
    "            \n",
    "        if name is None:\n",
    "            name = \"Circle, radius=%.2f m\" % radius\n",
    "        super(phase_aberation_inducer, self).__init__( name=name, planetype=_PUPIL, **kwargs)\n",
    "        # for creating input wavefronts - let's pad a bit:\n",
    "        self.pupil_diam = pad_factor * 2 * self.radius\n",
    "        self.map_adjust = map_adjust\n",
    "\n",
    "    def __load_aberation_map_interpolator__(self,radius):\n",
    "        from scipy.interpolate import InterpolatedUnivariateSpline\n",
    "        dataFile = 'new_circular_error_map.dat'\n",
    "        fd = open(dataFile,'rb')\n",
    "        fd.seek(0,0)\n",
    "        nmap = np.fromfile(fd, dtype = np.long, count = 1)[0]\n",
    "        fd.seek(4,0)\n",
    "        rmap = np.fromfile(fd, dtype = np.float64, count = nmap) * radius\n",
    "        zmap = np.fromfile(fd, dtype = np.float64, count = nmap)\n",
    "        fd.close()\n",
    "        f = InterpolatedUnivariateSpline(rmap, zmap, k=4)\n",
    "        return f\n",
    "    \n",
    "    def getPhasor(self, wave):\n",
    "        if not isinstance(wave, poppy.Wavefront):  # pragma: no cover\n",
    "            raise ValueError(\"CircularAperture getPhasor must be called with a Wavefront \"\n",
    "                             \"to define the spacing\")\n",
    "        assert (wave.planetype != _IMAGE)\n",
    "        \n",
    "\n",
    "        map_adjust = 1e5\n",
    "\n",
    "        y, x = self.get_coordinates(wave)\n",
    "        r = np.sqrt(x ** 2 + y ** 2)*wave.pixelscale\n",
    "        del x\n",
    "        del y\n",
    "        interpolator = self.__load_aberation_map_interpolator__(self.radius)\n",
    "        self.aberation_map = self.map_adjust*interpolator(r)\n",
    "        w_outside = np.where(r > self.radius)\n",
    "        del r\n",
    "        self.transmission = np.ones(wave.shape) + np.exp(1.j * 2 * np.pi * self.aberation_map)\n",
    "        self.transmission[w_outside] = 0\n",
    "        return self.transmission"
   ]
  },
  {
   "cell_type": "code",
   "execution_count": null,
   "metadata": {
    "collapsed": true
   },
   "outputs": [],
   "source": [
    "def poppy_system(wavefront, use_occulter=True):\n",
    "    \n",
    "    diam = 0.025*u.m\n",
    "    fl = 0.7*u.m\n",
    "    \n",
    "    pupil_ratio = (1.0/wavefront.oversample)\n",
    "    \n",
    "    wavefront *= poppy.CircularAperture(radius=diam.value/2.0)\n",
    "    #wavefront *= phase_aberation_inducer(radius=diam.value/2.0)\n",
    "    wavefront.apply_lens_power(fresnel.GaussianLens(fl, name='M1'))\n",
    "    wavefront *= poppy.CircularAperture(radius=diam.value/2.0)\n",
    "    \n",
    "\n",
    "    wavefront.propagate_fresnel(fl,display_intermed=False)\n",
    "    \n",
    "    \n",
    "    if (use_occulter): wavefront *= sinc_squared_occulter(name='Occulter')\n",
    "#     wavefront *= poppy.CircularAperture(radius=250.0*pupil_ratio*wavefront.pixelscale)\n",
    "    \n",
    "    \n",
    "    wavefront.propagate_fresnel(fl,display_intermed=False)\n",
    "    \n",
    "    \n",
    "    wavefront.apply_lens_power(fresnel.GaussianLens(fl, name='M2'))\n",
    "    wavefront *= poppy.CircularAperture(radius=1.6*diam.value/2)\n",
    "\n",
    "    \n",
    "    wavefront.propagate_fresnel(2*fl,display_intermed=False)\n",
    "\n",
    "    \n",
    "    wavefront *= poppy.CircularAperture(radius=0.53*diam.value/2, name='Lyot Stop')\n",
    "    wavefront.apply_lens_power(fresnel.GaussianLens(fl, name='Lyot Stop'))\n",
    "    \n",
    "    \n",
    "    wavefront.propagate_fresnel(fl,display_intermed=False)\n",
    "    \n",
    "    return wavefront"
   ]
  },
  {
   "cell_type": "code",
   "execution_count": null,
   "metadata": {
    "collapsed": false,
    "scrolled": false
   },
   "outputs": [],
   "source": [
    "#Using the same simple setup used in TDEM milestone 1 report, Appendix B: Verification of PROPER (p. 26)\n",
    "#Ref Figure 9 for the setup, Ref p. 27 for dimensions\n",
    "\n",
    "lam = 500e-9\n",
    "\n",
    "osamp=8 #oversampling factor\n",
    "\n",
    "n=256\n",
    "\n",
    "beam_diameter = 0.025*u.m\n",
    "\n",
    "#intialize wavefront\n",
    "poppy_field = fresnel.FresnelWavefront(beam_radius=beam_diameter/2, wavelength=lam, npix=n, oversample=osamp)\n",
    "poppy_psf = fresnel.FresnelWavefront(beam_radius=beam_diameter/2, wavelength=lam, npix=n, oversample=osamp)\n",
    "\n",
    "poppy_field = poppy_system(poppy_field,use_occulter=True)\n",
    "poppy_psf = poppy_system(poppy_psf,use_occulter=False)\n",
    "\n",
    "poppy_field_profile = poppy_field.intensity[osamp*n/2:,osamp*n/2]\n",
    "poppy_psf_profile = poppy_psf.intensity[osamp*n/2:,osamp*n/2]\n",
    "\n",
    "poppy_contrast_profile = poppy_field_profile / poppy_psf_profile\n",
    "\n",
    "\n",
    "\n",
    "\n",
    "\n",
    "plt.figure(figsize=(10,5))\n",
    "plt.semilogy(poppy_field_profile)\n",
    "plt.show()\n",
    "\n",
    "plt.figure(figsize=(10,5))\n",
    "plt.semilogy(poppy_psf_profile)\n",
    "plt.show()\n",
    "\n",
    "plt.figure(figsize=(10,5))\n",
    "plt.semilogy(poppy_contrast_profile)\n",
    "plt.show()\n",
    "\n",
    "\n",
    "\n",
    "\n"
   ]
  },
  {
   "cell_type": "code",
   "execution_count": null,
   "metadata": {
    "collapsed": false
   },
   "outputs": [],
   "source": [
    "plt.figure(figsize=(10,5))\n",
    "plt.semilogy(poppy_field_profile)\n",
    "plt.show()\n",
    "\n",
    "plt.figure(figsize=(10,5))\n",
    "plt.semilogy(poppy_psf_profile)\n",
    "plt.show()\n",
    "\n",
    "poppy_contrast_profile = poppy_field_profile / poppy_psf_profile\n",
    "\n",
    "plt.figure(figsize=(10,5))\n",
    "plt.semilogy(poppy_contrast_profile)\n",
    "plt.show()"
   ]
  },
  {
   "cell_type": "code",
   "execution_count": null,
   "metadata": {
    "collapsed": true
   },
   "outputs": [],
   "source": []
  },
  {
   "cell_type": "code",
   "execution_count": null,
   "metadata": {
    "collapsed": true
   },
   "outputs": [],
   "source": []
  }
 ],
 "metadata": {
  "kernelspec": {
   "display_name": "Python 2",
   "language": "python",
   "name": "python2"
  },
  "language_info": {
   "codemirror_mode": {
    "name": "ipython",
    "version": 2
   },
   "file_extension": ".py",
   "mimetype": "text/x-python",
   "name": "python",
   "nbconvert_exporter": "python",
   "pygments_lexer": "ipython2",
   "version": "2.7.10"
  }
 },
 "nbformat": 4,
 "nbformat_minor": 0
}
